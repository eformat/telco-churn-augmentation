{
 "cells": [
  {
   "cell_type": "markdown",
   "source": [
    "# Transforming and joining raw data\n",
    "\n",
    "The \"raw\" data is divided among the following tables:\n",
    "\n",
    "- **Customer metadata**\n",
    "  - customerID\n",
    "  - gender\n",
    "  - date of birth (we'll derive age and senior citizen status from this)\n",
    "  - Partner\n",
    "  - Dependents\n",
    "  - (nominal) MonthlyCharges\n",
    "- **Billing events**\n",
    "  - customerID\n",
    "  - date (we'll derive tenure from the number/duration of billing events)\n",
    "  - kind (one of \"AccountCreation\", \"Charge\", or \"AccountTermination\")\n",
    "  - value (either a positive nonzero amount or 0.00; we'll derive TotalCharges from the sum of amounts and Churn from the existence of an AccountTermination event)\n",
    "- **Customer phone features**\n",
    "  - customerID\n",
    "  - feature (one of \"PhoneService\" or \"MultipleLines\")\n",
    "- **Customer internet features**\n",
    "  - customerID\n",
    "  - feature (one of \"InternetService\", \"OnlineSecurity\", \"OnlineBackup\", \"DeviceProtection\", \"TechSupport\", \"StreamingTV\", \"StreamingMovies\")\n",
    "  - value (one of \"Fiber\", \"DSL\", \"Yes\", \"No\")\n",
    "- **Customer account features**\n",
    "  - customerID\n",
    "  - feature (one of \"Contract\", \"PaperlessBilling\", \"PaymentMethod\")\n",
    "  - value (one of \"Month-to-month\", \"One year\", \"Two year\", \"No\", \"Yes\", \"Credit card (automatic)\", \"Mailed check\", \"Bank transfer (automatic)\", \"Electronic check\")\n",
    "\n",
    "We want to join these together to reconstitute a training data set with this schema:\n",
    "\n",
    "- customerID\n",
    "- gender\n",
    "- SeniorCitizen\n",
    "- Partner\n",
    "- Dependents\n",
    "- tenure\n",
    "- PhoneService\n",
    "- MultipleLines\n",
    "- InternetService\n",
    "- OnlineSecurity\n",
    "- OnlineBackup\n",
    "- DeviceProtection\n",
    "- TechSupport\n",
    "- StreamingTV\n",
    "- StreamingMovies\n",
    "- Contract\n",
    "- PaperlessBilling\n",
    "- PaymentMethod\n",
    "- MonthlyCharges\n",
    "- TotalCharges\n",
    "- Churn"
   ],
   "metadata": {}
  },
  {
   "cell_type": "code",
   "execution_count": 1,
   "source": [
    "# notebook parameters\n",
    "\n",
    "import os\n",
    "\n",
    "os.environ[\"PYSPARK_PYTHON\"] = \"/usr/bin/python3.9\"\n",
    "os.environ[\"PYSPARK_DRIVER_PYTHON\"] = \"/usr/bin/python3.9\"\n",
    "os.environ[\"JAVA_HOME\"] = \"/usr/lib/jvm/java-11-openjdk-11.0.12.0.7-4.fc34.x86_64\"\n",
    "\n",
    "spark_master = \"local[*]\"\n",
    "app_name = \"churn-etl\"\n",
    "input_files = dict(\n",
    "    billing=\"billing_events\", \n",
    "    account_features=\"customer_account_features\", \n",
    "    internet_features=\"customer_internet_features\", \n",
    "    meta=\"customer_meta\", \n",
    "    phone_features=\"customer_phone_features\"\n",
    ")\n",
    "output_file = \"churn-etl\"\n",
    "output_prefix = \"\"\n",
    "output_mode = \"overwrite\"\n",
    "output_kind = \"parquet\"\n",
    "input_kind = \"parquet\"\n",
    "driver_memory = '8g'\n",
    "executor_memory = '8g'\n"
   ],
   "outputs": [],
   "metadata": {
    "tags": [
     "parameters"
    ]
   }
  },
  {
   "cell_type": "code",
   "execution_count": 2,
   "source": [
    "import pyspark\n",
    "\n",
    "session = pyspark.sql.SparkSession.builder \\\n",
    "    .master(spark_master) \\\n",
    "    .appName(app_name) \\\n",
    "    .config(\"spark.eventLog.enabled\", True) \\\n",
    "    .config(\"spark.eventLog.dir\", \".\") \\\n",
    "    .config(\"spark.driver.memory\", driver_memory) \\\n",
    "    .config(\"spark.executor.memory\", executor_memory) \\\n",
    "    .config(\"spark.executor.cores\", 1) \\\n",
    "    .config(\"spark.rapids.sql.concurrentGpuTasks\", 1) \\\n",
    "    .config(\"spark.rapids.memory.pinnedPool.size\", \"2G\") \\\n",
    "    .config(\"spark.locality.wait\", \"0s\") \\\n",
    "    .config(\"spark.sql.files.maxPartitionBytes\", \"512m\") \\\n",
    "    .config(\"spark.plugins\", \"com.nvidia.spark.SQLPlugin\") \\\n",
    "    .config(\"spark.jars\", \"/opt/sparkRapidsPlugin/cudf-21.08.2-cuda11.jar,/opt/sparkRapidsPlugin/rapids-4-spark_2.12-21.08.0.jar\") \\\n",
    "    .getOrCreate()\n",
    "session"
   ],
   "outputs": [
    {
     "output_type": "stream",
     "name": "stderr",
     "text": [
      "21/09/25 14:47:07 WARN Utils: Your hostname, virt resolves to a loopback address: 127.0.0.1; using 192.168.86.109 instead (on interface wlp2s0)\n",
      "21/09/25 14:47:07 WARN Utils: Set SPARK_LOCAL_IP if you need to bind to another address\n",
      "WARNING: An illegal reflective access operation has occurred\n",
      "WARNING: Illegal reflective access by org.apache.spark.unsafe.Platform (file:/home/mike/.local/lib/python3.9/site-packages/pyspark/jars/spark-unsafe_2.12-3.1.2.jar) to constructor java.nio.DirectByteBuffer(long,int)\n",
      "WARNING: Please consider reporting this to the maintainers of org.apache.spark.unsafe.Platform\n",
      "WARNING: Use --illegal-access=warn to enable warnings of further illegal reflective access operations\n",
      "WARNING: All illegal access operations will be denied in a future release\n",
      "21/09/25 14:47:08 WARN NativeCodeLoader: Unable to load native-hadoop library for your platform... using builtin-java classes where applicable\n",
      "Using Spark's default log4j profile: org/apache/spark/log4j-defaults.properties\n",
      "Setting default log level to \"WARN\".\n",
      "To adjust logging level use sc.setLogLevel(newLevel). For SparkR, use setLogLevel(newLevel).\n",
      "21/09/25 14:47:21 WARN GpuDeviceManager: Initial RMM allocation (3437.32421875 MB) is larger than the adjusted maximum allocation (3018.375 MB), lowering initial allocation to the adjusted maximum allocation.\n",
      "21/09/25 14:47:23 WARN SQLExecPlugin: RAPIDS Accelerator 21.08.0 using cudf 21.08.2. To disable GPU support set `spark.rapids.sql.enabled` to false\n",
      "21/09/25 14:47:23 WARN Plugin: Installing rapids UDF compiler extensions to Spark. The compiler is disabled by default. To enable it, set `spark.rapids.sql.udfCompiler.enabled` to true\n"
     ]
    },
    {
     "output_type": "execute_result",
     "data": {
      "text/html": [
       "\n",
       "            <div>\n",
       "                <p><b>SparkSession - in-memory</b></p>\n",
       "                \n",
       "        <div>\n",
       "            <p><b>SparkContext</b></p>\n",
       "\n",
       "            <p><a href=\"http://192.168.86.109:4040\">Spark UI</a></p>\n",
       "\n",
       "            <dl>\n",
       "              <dt>Version</dt>\n",
       "                <dd><code>v3.1.2</code></dd>\n",
       "              <dt>Master</dt>\n",
       "                <dd><code>local[*]</code></dd>\n",
       "              <dt>AppName</dt>\n",
       "                <dd><code>churn-etl</code></dd>\n",
       "            </dl>\n",
       "        </div>\n",
       "        \n",
       "            </div>\n",
       "        "
      ],
      "text/plain": [
       "<pyspark.sql.session.SparkSession at 0x7f2e4db03520>"
      ]
     },
     "metadata": {},
     "execution_count": 2
    }
   ],
   "metadata": {}
  },
  {
   "cell_type": "code",
   "execution_count": 3,
   "source": [
    "import churn.etl\n",
    "\n",
    "churn.etl.register_options(\n",
    "    spark_master = spark_master,\n",
    "    app_name = app_name,\n",
    "    input_files = input_files,\n",
    "    output_prefix = output_prefix,\n",
    "    output_mode = output_mode,\n",
    "    output_kind = output_kind,\n",
    "    input_kind = input_kind,\n",
    "    driver_memory = driver_memory,\n",
    "    executor_memory = executor_memory\n",
    ")"
   ],
   "outputs": [],
   "metadata": {}
  },
  {
   "cell_type": "markdown",
   "source": [
    "# Reconstructing billing events and charges"
   ],
   "metadata": {}
  },
  {
   "cell_type": "code",
   "execution_count": 4,
   "source": [
    "from churn.etl import read_df\n",
    "billing_events = read_df(session, input_files[\"billing\"])\n",
    "billing_events.printSchema()"
   ],
   "outputs": [
    {
     "output_type": "stream",
     "name": "stderr",
     "text": []
    },
    {
     "output_type": "stream",
     "name": "stdout",
     "text": [
      "root\n",
      " |-- customerID: string (nullable = true)\n",
      " |-- kind: string (nullable = true)\n",
      " |-- value: decimal(8,2) (nullable = true)\n",
      " |-- date: date (nullable = true)\n",
      " |-- month: string (nullable = true)\n",
      "\n"
     ]
    }
   ],
   "metadata": {}
  },
  {
   "cell_type": "code",
   "execution_count": 5,
   "source": [
    "from churn.etl import join_billing_data\n",
    "customer_billing = join_billing_data(billing_events)"
   ],
   "outputs": [],
   "metadata": {}
  },
  {
   "cell_type": "code",
   "execution_count": 6,
   "source": [
    "customer_billing"
   ],
   "outputs": [
    {
     "output_type": "execute_result",
     "data": {
      "text/plain": [
       "DataFrame[customerID: string, Churn: boolean, tenure: bigint, TotalCharges: decimal(18,2)]"
      ]
     },
     "metadata": {},
     "execution_count": 6
    }
   ],
   "metadata": {}
  },
  {
   "cell_type": "markdown",
   "source": [
    "When we aggregated billing data, we also captured a unique list of customers in a temporary view.  For convenience, we can access it as follows:"
   ],
   "metadata": {}
  },
  {
   "cell_type": "code",
   "execution_count": 7,
   "source": [
    "from churn.etl import customers as get_customers\n",
    "customers = get_customers()"
   ],
   "outputs": [],
   "metadata": {}
  },
  {
   "cell_type": "markdown",
   "source": [
    "# Reconstructing phone features\n"
   ],
   "metadata": {}
  },
  {
   "cell_type": "code",
   "execution_count": 8,
   "source": [
    "phone_features = read_df(session, input_files[\"phone_features\"])\n",
    "phone_features.printSchema()"
   ],
   "outputs": [
    {
     "output_type": "stream",
     "name": "stdout",
     "text": [
      "root\n",
      " |-- customerID: string (nullable = true)\n",
      " |-- feature: string (nullable = true)\n",
      " |-- value: string (nullable = true)\n",
      "\n"
     ]
    }
   ],
   "metadata": {}
  },
  {
   "cell_type": "code",
   "execution_count": 9,
   "source": [
    "from churn.etl import join_phone_features\n",
    "customer_phone_features = join_phone_features(phone_features)"
   ],
   "outputs": [],
   "metadata": {}
  },
  {
   "cell_type": "markdown",
   "source": [
    "# Reconstructing internet features\n",
    "\n",
    "Whereas phone features only include whether or not there are multiple lines, there are several internet-specific features in accounts:\n",
    "\n",
    "- `InternetService` (one of `Fiber optic` or `DSL` in the \"raw\" data; its absence translates to `No` in the processed data)\n",
    "- `OnlineSecurity` (`Yes` in the \"raw\" data if present; one of `No`, `Yes`, or `No internet service` in the processed data)\n",
    "- `OnlineBackup` (`Yes` in the \"raw\" data if present; one of `No`, `Yes`, or `No internet service` in the processed data)\n",
    "- `DeviceProtection` (`Yes` in the \"raw\" data if present; one of `No`, `Yes`, or `No internet service` in the processed data)\n",
    "- `TechSupport` (`Yes` in the \"raw\" data if present; one of `No`, `Yes`, or `No internet service` in the processed data)\n",
    "- `StreamingTV` (`Yes` in the \"raw\" data if present; one of `No`, `Yes`, or `No internet service` in the processed data)\n",
    "- `StreamingMovies` (`Yes` in the \"raw\" data if present; one of `No`, `Yes`, or `No internet service` in the processed data)\n",
    "\n",
    "This will lead to some slightly more interesting joins!"
   ],
   "metadata": {}
  },
  {
   "cell_type": "code",
   "execution_count": 10,
   "source": [
    "internet_features = read_df(session, input_files[\"internet_features\"])\n",
    "internet_features.printSchema()\n",
    "internet_features.show()"
   ],
   "outputs": [
    {
     "output_type": "stream",
     "name": "stdout",
     "text": [
      "root\n",
      " |-- customerID: string (nullable = true)\n",
      " |-- feature: string (nullable = true)\n",
      " |-- value: string (nullable = true)\n",
      "\n"
     ]
    },
    {
     "output_type": "stream",
     "name": "stderr",
     "text": []
    },
    {
     "output_type": "stream",
     "name": "stdout",
     "text": [
      "+--------------------+---------------+-----+\n",
      "|          customerID|        feature|value|\n",
      "+--------------------+---------------+-----+\n",
      "|7590-VHVEG-Mg8VG5...|InternetService|  DSL|\n",
      "|7590-VHVEG-5xLi5Z...|InternetService|  DSL|\n",
      "|7590-VHVEG-ZePlJi...|InternetService|  DSL|\n",
      "|7590-VHVEG-x9IoNd...|InternetService|  DSL|\n",
      "|7590-VHVEG-Z9yCIk...|InternetService|  DSL|\n",
      "|7590-VHVEG-K8kBya...|InternetService|  DSL|\n",
      "|7590-VHVEG-4ZjnIU...|InternetService|  DSL|\n",
      "|7590-VHVEG-0stTDJ...|InternetService|  DSL|\n",
      "|7590-VHVEG-lqhKlh...|InternetService|  DSL|\n",
      "|7590-VHVEG-4Y_zUA...|InternetService|  DSL|\n",
      "|7590-VHVEG-34V86Q...|InternetService|  DSL|\n",
      "|7590-VHVEG-GCNzU2...|InternetService|  DSL|\n",
      "|7590-VHVEG-i0AFUE...|InternetService|  DSL|\n",
      "|7590-VHVEG-F1ALBc...|InternetService|  DSL|\n",
      "|7590-VHVEG-aEfHl7...|InternetService|  DSL|\n",
      "|7590-VHVEG-3K15yQ...|InternetService|  DSL|\n",
      "|7590-VHVEG-eiqTDe...|InternetService|  DSL|\n",
      "|7590-VHVEG-iMYyeZ...|InternetService|  DSL|\n",
      "|7590-VHVEG-rReekB...|InternetService|  DSL|\n",
      "|7590-VHVEG-2l92Zs...|InternetService|  DSL|\n",
      "+--------------------+---------------+-----+\n",
      "only showing top 20 rows\n",
      "\n"
     ]
    },
    {
     "output_type": "stream",
     "name": "stderr",
     "text": []
    }
   ],
   "metadata": {}
  },
  {
   "cell_type": "code",
   "execution_count": 11,
   "source": [
    "from churn.etl import join_internet_features\n",
    "customer_internet_features = join_internet_features(internet_features)"
   ],
   "outputs": [],
   "metadata": {}
  },
  {
   "cell_type": "markdown",
   "source": [
    "# Reconstructing account features"
   ],
   "metadata": {}
  },
  {
   "cell_type": "code",
   "execution_count": 12,
   "source": [
    "account_features = read_df(session, input_files[\"account_features\"])\n",
    "account_features.printSchema()\n",
    "account_features.show()"
   ],
   "outputs": [
    {
     "output_type": "stream",
     "name": "stdout",
     "text": [
      "root\n",
      " |-- customerID: string (nullable = true)\n",
      " |-- feature: string (nullable = true)\n",
      " |-- value: string (nullable = true)\n",
      "\n",
      "+--------------------+-------------+----------------+\n",
      "|          customerID|      feature|           value|\n",
      "+--------------------+-------------+----------------+\n",
      "|7590-VHVEG-Mg8VG5...|PaymentMethod|Electronic check|\n",
      "|7590-VHVEG-5xLi5Z...|PaymentMethod|Electronic check|\n",
      "|7590-VHVEG-ZePlJi...|PaymentMethod|Electronic check|\n",
      "|7590-VHVEG-x9IoNd...|PaymentMethod|Electronic check|\n",
      "|7590-VHVEG-Z9yCIk...|PaymentMethod|Electronic check|\n",
      "|7590-VHVEG-K8kBya...|PaymentMethod|Electronic check|\n",
      "|7590-VHVEG-4ZjnIU...|PaymentMethod|Electronic check|\n",
      "|7590-VHVEG-0stTDJ...|PaymentMethod|Electronic check|\n",
      "|7590-VHVEG-lqhKlh...|PaymentMethod|Electronic check|\n",
      "|7590-VHVEG-4Y_zUA...|PaymentMethod|Electronic check|\n",
      "|7590-VHVEG-34V86Q...|PaymentMethod|Electronic check|\n",
      "|7590-VHVEG-GCNzU2...|PaymentMethod|Electronic check|\n",
      "|7590-VHVEG-i0AFUE...|PaymentMethod|Electronic check|\n",
      "|7590-VHVEG-F1ALBc...|PaymentMethod|Electronic check|\n",
      "|7590-VHVEG-aEfHl7...|PaymentMethod|Electronic check|\n",
      "|7590-VHVEG-3K15yQ...|PaymentMethod|Electronic check|\n",
      "|7590-VHVEG-eiqTDe...|PaymentMethod|Electronic check|\n",
      "|7590-VHVEG-iMYyeZ...|PaymentMethod|Electronic check|\n",
      "|7590-VHVEG-rReekB...|PaymentMethod|Electronic check|\n",
      "|7590-VHVEG-2l92Zs...|PaymentMethod|Electronic check|\n",
      "+--------------------+-------------+----------------+\n",
      "only showing top 20 rows\n",
      "\n"
     ]
    }
   ],
   "metadata": {}
  },
  {
   "cell_type": "code",
   "execution_count": 13,
   "source": [
    "from churn.etl import join_account_features\n",
    "customer_account_features = join_account_features(account_features)"
   ],
   "outputs": [],
   "metadata": {}
  },
  {
   "cell_type": "markdown",
   "source": [
    "# Account metadata"
   ],
   "metadata": {}
  },
  {
   "cell_type": "code",
   "execution_count": 14,
   "source": [
    "account_meta = read_df(session, input_files[\"meta\"])\n",
    "account_meta.printSchema()"
   ],
   "outputs": [
    {
     "output_type": "stream",
     "name": "stdout",
     "text": [
      "root\n",
      " |-- customerID: string (nullable = true)\n",
      " |-- dateOfBirth: date (nullable = true)\n",
      " |-- gender: string (nullable = true)\n",
      " |-- SeniorCitizen: string (nullable = true)\n",
      " |-- Partner: string (nullable = true)\n",
      " |-- Dependents: string (nullable = true)\n",
      " |-- MonthlyCharges: decimal(8,2) (nullable = true)\n",
      " |-- now: timestamp (nullable = true)\n",
      "\n"
     ]
    }
   ],
   "metadata": {}
  },
  {
   "cell_type": "code",
   "execution_count": 15,
   "source": [
    "from churn.etl import process_account_meta\n",
    "customer_account_meta = process_account_meta(account_meta)"
   ],
   "outputs": [],
   "metadata": {}
  },
  {
   "cell_type": "markdown",
   "source": [
    "# Putting it all together"
   ],
   "metadata": {}
  },
  {
   "cell_type": "code",
   "execution_count": 16,
   "source": [
    "from churn.etl import chained_join\n",
    "from churn.etl import forcefloat\n",
    "\n",
    "wide_data = chained_join(\n",
    "    \"customerID\",\n",
    "    customers,\n",
    "    [\n",
    "        customer_billing,\n",
    "        customer_phone_features,\n",
    "        customer_internet_features,\n",
    "        customer_account_features,\n",
    "        customer_account_meta\n",
    "    ]\n",
    ").select(\n",
    "    \"customerID\", \n",
    "    \"gender\", \n",
    "    \"SeniorCitizen\", \n",
    "    \"Partner\", \n",
    "    \"Dependents\", \n",
    "    \"tenure\", \n",
    "    \"PhoneService\", \n",
    "    \"MultipleLines\", \n",
    "    \"InternetService\", \n",
    "    \"OnlineSecurity\", \n",
    "    \"OnlineBackup\", \n",
    "    \"DeviceProtection\", \n",
    "    \"TechSupport\", \n",
    "    \"StreamingTV\", \n",
    "    \"StreamingMovies\", \n",
    "    \"Contract\", \n",
    "    \"PaperlessBilling\", \n",
    "    \"PaymentMethod\", \n",
    "    forcefloat(\"MonthlyCharges\"),\n",
    "    forcefloat(\"TotalCharges\"), \n",
    "    \"Churn\"\n",
    ")"
   ],
   "outputs": [],
   "metadata": {}
  },
  {
   "cell_type": "code",
   "execution_count": 17,
   "source": [
    "wide_data.explain()"
   ],
   "outputs": [
    {
     "output_type": "stream",
     "name": "stdout",
     "text": [
      "== Physical Plan ==\n",
      "*(10) Project [customerID#0, gender#237, SeniorCitizen#251, Partner#239, Dependents#240, tenure#60L, PhoneService#93, MultipleLines#97, InternetService#177, OnlineSecurity#178, OnlineBackup#179, DeviceProtection#180, TechSupport#181, StreamingTV#182, StreamingMovies#183, Contract#211, PaperlessBilling#230, PaymentMethod#217, cast(MonthlyCharges#241 as float) AS MonthlyCharges#338, cast(TotalCharges#61 as float) AS TotalCharges#339, Churn#36]\n",
      "+- *(10) BroadcastHashJoin [customerID#0], [customerID#235], LeftOuter, BuildRight, false\n",
      "   :- *(10) Project [customerID#0, Churn#36, tenure#60L, TotalCharges#61, PhoneService#93, MultipleLines#97, InternetService#177, OnlineSecurity#178, OnlineBackup#179, DeviceProtection#180, TechSupport#181, StreamingTV#182, StreamingMovies#183, Contract#211, PaperlessBilling#230, PaymentMethod#217]\n",
      "   :  +- SortMergeJoin [customerID#0], [customerID#296], LeftOuter\n",
      "   :     :- *(8) Project [customerID#0, Churn#36, tenure#60L, TotalCharges#61, PhoneService#93, MultipleLines#97, InternetService#177, OnlineSecurity#178, OnlineBackup#179, DeviceProtection#180, TechSupport#181, StreamingTV#182, StreamingMovies#183]\n",
      "   :     :  +- SortMergeJoin [customerID#0], [customerID#278], LeftOuter\n",
      "   :     :     :- *(7) Project [customerID#0, Churn#36, tenure#60L, TotalCharges#61, PhoneService#93, MultipleLines#97]\n",
      "   :     :     :  +- SortMergeJoin [customerID#0], [customerID#267], LeftOuter\n",
      "   :     :     :     :- *(6) Project [customerID#0, Churn#36, tenure#60L, TotalCharges#61]\n",
      "   :     :     :     :  +- SortMergeJoin [customerID#0], [customerID#258], LeftOuter\n",
      "   :     :     :     :     :- GpuColumnarToRow false\n",
      "   :     :     :     :     :  +- GpuSort [customerID#0 ASC NULLS FIRST], false, com.nvidia.spark.rapids.OutOfCoreSort$@2ad5e9c1\n",
      "   :     :     :     :     :     +- GpuHashAggregate(keys=[customerID#0], functions=[]), filters=ArrayBuffer())\n",
      "   :     :     :     :     :        +- GpuShuffleCoalesce 2147483647\n",
      "   :     :     :     :     :           +- GpuColumnarExchange gpuhashpartitioning(customerID#0, 200), ENSURE_REQUIREMENTS, [id=#591]\n",
      "   :     :     :     :     :              +- GpuHashAggregate(keys=[customerID#0], functions=[]), filters=ArrayBuffer())\n",
      "   :     :     :     :     :                 +- GpuProject [customerID#0]\n",
      "   :     :     :     :     :                    +- GpuFileGpuScan parquet [customerID#0,month#4] Batched: true, DataFilters: [], Format: Parquet, Location: InMemoryFileIndex[file:/home/mike/git/telco-churn-augmentation/billing_events.parquet], PartitionFilters: [], PushedFilters: [], ReadSchema: struct<customerID:string>\n",
      "   :     :     :     :     +- *(5) Project [customerID#258, Churn#36, tenure#60L, TotalCharges#61]\n",
      "   :     :     :     :        +- *(5) SortMergeJoin [customerID#258], [customerID#65], Inner\n",
      "   :     :     :     :           :- GpuColumnarToRow false\n",
      "   :     :     :     :           :  +- GpuSort [customerID#258 ASC NULLS FIRST], false, com.nvidia.spark.rapids.OutOfCoreSort$@2ad5e9c1\n",
      "   :     :     :     :           :     +- GpuProject [customerID#258, CASE WHEN gpuisnull(Churn#30) THEN false ELSE true END AS Churn#36]\n",
      "   :     :     :     :           :        +- GpuShuffledHashJoin [customerID#258], [Churn#30], LeftOuter, GpuBuildRight, false\n",
      "   :     :     :     :           :           :- GpuHashAggregate(keys=[customerID#258], functions=[]), filters=ArrayBuffer())\n",
      "   :     :     :     :           :           :  +- GpuShuffleCoalesce 2147483647\n",
      "   :     :     :     :           :           :     +- GpuColumnarExchange gpuhashpartitioning(customerID#258, 200), ENSURE_REQUIREMENTS, [id=#795]\n",
      "   :     :     :     :           :           :        +- GpuHashAggregate(keys=[customerID#258], functions=[]), filters=ArrayBuffer())\n",
      "   :     :     :     :           :           :           +- GpuProject [customerID#258]\n",
      "   :     :     :     :           :           :              +- GpuCoalesceBatches targetsize(2147483647)\n",
      "   :     :     :     :           :           :                 +- GpuFilter gpuisnotnull(customerID#258)\n",
      "   :     :     :     :           :           :                    +- GpuFileGpuScan parquet [customerID#258,month#262] Batched: true, DataFilters: [isnotnull(customerID#258)], Format: Parquet, Location: InMemoryFileIndex[file:/home/mike/git/telco-churn-augmentation/billing_events.parquet], PartitionFilters: [], PushedFilters: [IsNotNull(customerID)], ReadSchema: struct<customerID:string>\n",
      "   :     :     :     :           :           +- GpuCoalesceBatches RequireSingleBatch\n",
      "   :     :     :     :           :              +- GpuShuffleCoalesce 2147483647\n",
      "   :     :     :     :           :                 +- GpuColumnarExchange gpuhashpartitioning(Churn#30, 200), ENSURE_REQUIREMENTS, [id=#799]\n",
      "   :     :     :     :           :                    +- GpuProject [customerID#258 AS Churn#30]\n",
      "   :     :     :     :           :                       +- GpuCoalesceBatches targetsize(2147483647)\n",
      "   :     :     :     :           :                          +- GpuFilter ((gpuisnotnull(kind#259) AND (kind#259 = AccountTermination)) AND gpuisnotnull(customerID#258))\n",
      "   :     :     :     :           :                             +- GpuFileGpuScan parquet [customerID#258,kind#259,month#262] Batched: true, DataFilters: [isnotnull(kind#259), (kind#259 = AccountTermination), isnotnull(customerID#258)], Format: Parquet, Location: InMemoryFileIndex[file:/home/mike/git/telco-churn-augmentation/billing_events.parquet], PartitionFilters: [], PushedFilters: [IsNotNull(kind), EqualTo(kind,AccountTermination), IsNotNull(customerID)], ReadSchema: struct<customerID:string,kind:string>\n",
      "   :     :     :     :           +- *(4) Project [customerID#65, coalesce(event_counts#23L, 0) AS tenure#60L, coalesce(total_charges#25, 0.00) AS TotalCharges#61]\n",
      "   :     :     :     :              +- SortMergeJoin [customerID#65], [customerID#41], LeftOuter\n",
      "   :     :     :     :                 :- GpuColumnarToRow false\n",
      "   :     :     :     :                 :  +- GpuSort [customerID#65 ASC NULLS FIRST], false, com.nvidia.spark.rapids.OutOfCoreSort$@2ad5e9c1\n",
      "   :     :     :     :                 :     +- GpuHashAggregate(keys=[customerID#65], functions=[]), filters=ArrayBuffer())\n",
      "   :     :     :     :                 :        +- GpuShuffleCoalesce 2147483647\n",
      "   :     :     :     :                 :           +- ReusedExchange [customerID#65], GpuColumnarExchange gpuhashpartitioning(customerID#258, 200), ENSURE_REQUIREMENTS, [id=#795]\n",
      "   :     :     :     :                 +- *(3) Sort [customerID#41 ASC NULLS FIRST], false, 0\n",
      "   :     :     :     :                    +- Exchange hashpartitioning(customerID#41, 200), ENSURE_REQUIREMENTS, [id=#1015]\n",
      "   :     :     :     :                       +- *(2) HashAggregate(keys=[customerID#41, kind#42], functions=[count(value#43), sum(UnscaledValue(value#43))])\n",
      "   :     :     :     :                          +- Exchange hashpartitioning(customerID#41, kind#42, 200), ENSURE_REQUIREMENTS, [id=#1011]\n",
      "   :     :     :     :                             +- *(1) HashAggregate(keys=[customerID#41, kind#42], functions=[partial_count(value#43), partial_sum(UnscaledValue(value#43))])\n",
      "   :     :     :     :                                +- *(1) Project [customerID#41, kind#42, value#43]\n",
      "   :     :     :     :                                   +- *(1) Filter ((isnotnull(kind#42) AND (kind#42 = Charge)) AND isnotnull(customerID#41))\n",
      "   :     :     :     :                                      +- *(1) ColumnarToRow\n",
      "   :     :     :     :                                         +- FileScan parquet [customerID#41,kind#42,value#43,month#45] Batched: true, DataFilters: [isnotnull(kind#42), (kind#42 = Charge), isnotnull(customerID#41)], Format: Parquet, Location: InMemoryFileIndex[file:/home/mike/git/telco-churn-augmentation/billing_events.parquet], PartitionFilters: [], PushedFilters: [IsNotNull(kind), EqualTo(kind,Charge), IsNotNull(customerID)], ReadSchema: struct<customerID:string,kind:string,value:decimal(8,2)>\n",
      "   :     :     :     +- GpuColumnarToRow false\n",
      "   :     :     :        +- GpuSort [customerID#267 ASC NULLS FIRST], false, com.nvidia.spark.rapids.OutOfCoreSort$@2ad5e9c1\n",
      "   :     :     :           +- GpuProject [customerID#267, CASE WHEN gpuisnull(PhoneService#81) THEN No ELSE Yes END AS PhoneService#93, CASE WHEN (CASE WHEN gpuisnull(PhoneService#81) THEN No ELSE Yes END = No) THEN No phone service ELSE CASE WHEN gpuisnull(MultipleLines#84) THEN No ELSE Yes END END AS MultipleLines#97]\n",
      "   :     :     :              +- GpuBroadcastHashJoin [customerID#267], [customerID#75], LeftOuter, GpuBuildRight\n",
      "   :     :     :                 :- GpuProject [customerID#267, PhoneService#81]\n",
      "   :     :     :                 :  +- GpuBroadcastHashJoin [customerID#267], [customerID#75], LeftOuter, GpuBuildRight\n",
      "   :     :     :                 :     :- GpuHashAggregate(keys=[customerID#267], functions=[]), filters=ArrayBuffer())\n",
      "   :     :     :                 :     :  +- GpuShuffleCoalesce 2147483647\n",
      "   :     :     :                 :     :     +- ReusedExchange [customerID#267], GpuColumnarExchange gpuhashpartitioning(customerID#258, 200), ENSURE_REQUIREMENTS, [id=#795]\n",
      "   :     :     :                 :     +- GpuBroadcastExchange HashedRelationBroadcastMode(List(input[0, string, true]),false), [id=#827]\n",
      "   :     :     :                 :        +- GpuProject [customerID#75, Yes AS PhoneService#81]\n",
      "   :     :     :                 :           +- GpuCoalesceBatches targetsize(2147483647)\n",
      "   :     :     :                 :              +- GpuFilter ((gpuisnotnull(feature#76) AND (feature#76 = PhoneService)) AND gpuisnotnull(customerID#75))\n",
      "   :     :     :                 :                 +- GpuFileGpuScan parquet [customerID#75,feature#76] Batched: true, DataFilters: [isnotnull(feature#76), (feature#76 = PhoneService), isnotnull(customerID#75)], Format: Parquet, Location: InMemoryFileIndex[file:/home/mike/git/telco-churn-augmentation/customer_phone_features.parquet], PartitionFilters: [], PushedFilters: [IsNotNull(feature), EqualTo(feature,PhoneService), IsNotNull(customerID)], ReadSchema: struct<customerID:string,feature:string>\n",
      "   :     :     :                 +- GpuBroadcastExchange HashedRelationBroadcastMode(List(input[0, string, true]),false), [id=#832]\n",
      "   :     :     :                    +- GpuProject [customerID#75, Yes AS MultipleLines#84]\n",
      "   :     :     :                       +- GpuCoalesceBatches targetsize(2147483647)\n",
      "   :     :     :                          +- GpuFilter ((gpuisnotnull(feature#76) AND (feature#76 = MultipleLines)) AND gpuisnotnull(customerID#75))\n",
      "   :     :     :                             +- GpuFileGpuScan parquet [customerID#75,feature#76] Batched: true, DataFilters: [isnotnull(feature#76), (feature#76 = MultipleLines), isnotnull(customerID#75)], Format: Parquet, Location: InMemoryFileIndex[file:/home/mike/git/telco-churn-augmentation/customer_phone_features.parquet], PartitionFilters: [], PushedFilters: [IsNotNull(feature), EqualTo(feature,MultipleLines), IsNotNull(customerID)], ReadSchema: struct<customerID:string,feature:string>\n",
      "   :     :     +- GpuColumnarToRow false\n",
      "   :     :        +- GpuSort [customerID#278 ASC NULLS FIRST], false, com.nvidia.spark.rapids.OutOfCoreSort$@2ad5e9c1\n",
      "   :     :           +- GpuProject [customerID#278, CASE WHEN gpuisnull(InternetService#120) THEN No ELSE InternetService#120 END AS InternetService#177, CASE WHEN ((InternetService#120 = No) OR gpuisnull(InternetService#120)) THEN No internet service ELSE CASE WHEN gpuisnull(OnlineSecurity#123) THEN No ELSE OnlineSecurity#123 END END AS OnlineSecurity#178, CASE WHEN ((InternetService#120 = No) OR gpuisnull(InternetService#120)) THEN No internet service ELSE CASE WHEN gpuisnull(OnlineBackup#126) THEN No ELSE OnlineBackup#126 END END AS OnlineBackup#179, CASE WHEN ((InternetService#120 = No) OR gpuisnull(InternetService#120)) THEN No internet service ELSE CASE WHEN gpuisnull(DeviceProtection#129) THEN No ELSE DeviceProtection#129 END END AS DeviceProtection#180, CASE WHEN ((InternetService#120 = No) OR gpuisnull(InternetService#120)) THEN No internet service ELSE CASE WHEN gpuisnull(TechSupport#132) THEN No ELSE TechSupport#132 END END AS TechSupport#181, CASE WHEN ((InternetService#120 = No) OR gpuisnull(InternetService#120)) THEN No internet service ELSE CASE WHEN gpuisnull(StreamingTV#135) THEN No ELSE StreamingTV#135 END END AS StreamingTV#182, CASE WHEN ((InternetService#120 = No) OR gpuisnull(InternetService#120)) THEN No internet service ELSE CASE WHEN gpuisnull(StreamingMovies#138) THEN No ELSE StreamingMovies#138 END END AS StreamingMovies#183]\n",
      "   :     :              +- GpuBroadcastHashJoin [customerID#278], [customerID#101], LeftOuter, GpuBuildRight\n",
      "   :     :                 :- GpuProject [customerID#278, InternetService#120, OnlineSecurity#123, OnlineBackup#126, DeviceProtection#129, TechSupport#132, StreamingTV#135]\n",
      "   :     :                 :  +- GpuBroadcastHashJoin [customerID#278], [customerID#101], LeftOuter, GpuBuildRight\n",
      "   :     :                 :     :- GpuProject [customerID#278, InternetService#120, OnlineSecurity#123, OnlineBackup#126, DeviceProtection#129, TechSupport#132]\n",
      "   :     :                 :     :  +- GpuBroadcastHashJoin [customerID#278], [customerID#101], LeftOuter, GpuBuildRight\n",
      "   :     :                 :     :     :- GpuProject [customerID#278, InternetService#120, OnlineSecurity#123, OnlineBackup#126, DeviceProtection#129]\n",
      "   :     :                 :     :     :  +- GpuBroadcastHashJoin [customerID#278], [customerID#101], LeftOuter, GpuBuildRight\n",
      "   :     :                 :     :     :     :- GpuProject [customerID#278, InternetService#120, OnlineSecurity#123, OnlineBackup#126]\n",
      "   :     :                 :     :     :     :  +- GpuBroadcastHashJoin [customerID#278], [customerID#101], LeftOuter, GpuBuildRight\n",
      "   :     :                 :     :     :     :     :- GpuProject [customerID#278, InternetService#120, OnlineSecurity#123]\n",
      "   :     :                 :     :     :     :     :  +- GpuBroadcastHashJoin [customerID#278], [customerID#101], LeftOuter, GpuBuildRight\n",
      "   :     :                 :     :     :     :     :     :- GpuProject [customerID#278, InternetService#120]\n",
      "   :     :                 :     :     :     :     :     :  +- GpuBroadcastHashJoin [customerID#278], [customerID#101], LeftOuter, GpuBuildRight\n",
      "   :     :                 :     :     :     :     :     :     :- GpuHashAggregate(keys=[customerID#278], functions=[]), filters=ArrayBuffer())\n",
      "   :     :                 :     :     :     :     :     :     :  +- GpuShuffleCoalesce 2147483647\n",
      "   :     :                 :     :     :     :     :     :     :     +- ReusedExchange [customerID#278], GpuColumnarExchange gpuhashpartitioning(customerID#258, 200), ENSURE_REQUIREMENTS, [id=#795]\n",
      "   :     :                 :     :     :     :     :     :     +- GpuBroadcastExchange HashedRelationBroadcastMode(List(input[0, string, true]),false), [id=#847]\n",
      "   :     :                 :     :     :     :     :     :        +- GpuProject [customerID#101, value#103 AS InternetService#120]\n",
      "   :     :                 :     :     :     :     :     :           +- GpuCoalesceBatches targetsize(2147483647)\n",
      "   :     :                 :     :     :     :     :     :              +- GpuFilter ((gpuisnotnull(feature#102) AND (feature#102 = InternetService)) AND gpuisnotnull(customerID#101))\n",
      "   :     :                 :     :     :     :     :     :                 +- GpuFileGpuScan parquet [customerID#101,feature#102,value#103] Batched: true, DataFilters: [isnotnull(feature#102), (feature#102 = InternetService), isnotnull(customerID#101)], Format: Parquet, Location: InMemoryFileIndex[file:/home/mike/git/telco-churn-augmentation/customer_internet_features.parquet], PartitionFilters: [], PushedFilters: [IsNotNull(feature), EqualTo(feature,InternetService), IsNotNull(customerID)], ReadSchema: struct<customerID:string,feature:string,value:string>\n",
      "   :     :                 :     :     :     :     :     +- GpuBroadcastExchange HashedRelationBroadcastMode(List(input[0, string, true]),false), [id=#852]\n",
      "   :     :                 :     :     :     :     :        +- GpuProject [customerID#101, value#103 AS OnlineSecurity#123]\n",
      "   :     :                 :     :     :     :     :           +- GpuCoalesceBatches targetsize(2147483647)\n",
      "   :     :                 :     :     :     :     :              +- GpuFilter ((gpuisnotnull(feature#102) AND (feature#102 = OnlineSecurity)) AND gpuisnotnull(customerID#101))\n",
      "   :     :                 :     :     :     :     :                 +- GpuFileGpuScan parquet [customerID#101,feature#102,value#103] Batched: true, DataFilters: [isnotnull(feature#102), (feature#102 = OnlineSecurity), isnotnull(customerID#101)], Format: Parquet, Location: InMemoryFileIndex[file:/home/mike/git/telco-churn-augmentation/customer_internet_features.parquet], PartitionFilters: [], PushedFilters: [IsNotNull(feature), EqualTo(feature,OnlineSecurity), IsNotNull(customerID)], ReadSchema: struct<customerID:string,feature:string,value:string>\n",
      "   :     :                 :     :     :     :     +- GpuBroadcastExchange HashedRelationBroadcastMode(List(input[0, string, true]),false), [id=#857]\n",
      "   :     :                 :     :     :     :        +- GpuProject [customerID#101, value#103 AS OnlineBackup#126]\n",
      "   :     :                 :     :     :     :           +- GpuCoalesceBatches targetsize(2147483647)\n",
      "   :     :                 :     :     :     :              +- GpuFilter ((gpuisnotnull(feature#102) AND (feature#102 = OnlineBackup)) AND gpuisnotnull(customerID#101))\n",
      "   :     :                 :     :     :     :                 +- GpuFileGpuScan parquet [customerID#101,feature#102,value#103] Batched: true, DataFilters: [isnotnull(feature#102), (feature#102 = OnlineBackup), isnotnull(customerID#101)], Format: Parquet, Location: InMemoryFileIndex[file:/home/mike/git/telco-churn-augmentation/customer_internet_features.parquet], PartitionFilters: [], PushedFilters: [IsNotNull(feature), EqualTo(feature,OnlineBackup), IsNotNull(customerID)], ReadSchema: struct<customerID:string,feature:string,value:string>\n",
      "   :     :                 :     :     :     +- GpuBroadcastExchange HashedRelationBroadcastMode(List(input[0, string, true]),false), [id=#862]\n",
      "   :     :                 :     :     :        +- GpuProject [customerID#101, value#103 AS DeviceProtection#129]\n",
      "   :     :                 :     :     :           +- GpuCoalesceBatches targetsize(2147483647)\n",
      "   :     :                 :     :     :              +- GpuFilter ((gpuisnotnull(feature#102) AND (feature#102 = DeviceProtection)) AND gpuisnotnull(customerID#101))\n",
      "   :     :                 :     :     :                 +- GpuFileGpuScan parquet [customerID#101,feature#102,value#103] Batched: true, DataFilters: [isnotnull(feature#102), (feature#102 = DeviceProtection), isnotnull(customerID#101)], Format: Parquet, Location: InMemoryFileIndex[file:/home/mike/git/telco-churn-augmentation/customer_internet_features.parquet], PartitionFilters: [], PushedFilters: [IsNotNull(feature), EqualTo(feature,DeviceProtection), IsNotNull(customerID)], ReadSchema: struct<customerID:string,feature:string,value:string>\n",
      "   :     :                 :     :     +- GpuBroadcastExchange HashedRelationBroadcastMode(List(input[0, string, true]),false), [id=#867]\n",
      "   :     :                 :     :        +- GpuProject [customerID#101, value#103 AS TechSupport#132]\n",
      "   :     :                 :     :           +- GpuCoalesceBatches targetsize(2147483647)\n",
      "   :     :                 :     :              +- GpuFilter ((gpuisnotnull(feature#102) AND (feature#102 = TechSupport)) AND gpuisnotnull(customerID#101))\n",
      "   :     :                 :     :                 +- GpuFileGpuScan parquet [customerID#101,feature#102,value#103] Batched: true, DataFilters: [isnotnull(feature#102), (feature#102 = TechSupport), isnotnull(customerID#101)], Format: Parquet, Location: InMemoryFileIndex[file:/home/mike/git/telco-churn-augmentation/customer_internet_features.parquet], PartitionFilters: [], PushedFilters: [IsNotNull(feature), EqualTo(feature,TechSupport), IsNotNull(customerID)], ReadSchema: struct<customerID:string,feature:string,value:string>\n",
      "   :     :                 :     +- GpuBroadcastExchange HashedRelationBroadcastMode(List(input[0, string, true]),false), [id=#872]\n",
      "   :     :                 :        +- GpuProject [customerID#101, value#103 AS StreamingTV#135]\n",
      "   :     :                 :           +- GpuCoalesceBatches targetsize(2147483647)\n",
      "   :     :                 :              +- GpuFilter ((gpuisnotnull(feature#102) AND (feature#102 = StreamingTV)) AND gpuisnotnull(customerID#101))\n",
      "   :     :                 :                 +- GpuFileGpuScan parquet [customerID#101,feature#102,value#103] Batched: true, DataFilters: [isnotnull(feature#102), (feature#102 = StreamingTV), isnotnull(customerID#101)], Format: Parquet, Location: InMemoryFileIndex[file:/home/mike/git/telco-churn-augmentation/customer_internet_features.parquet], PartitionFilters: [], PushedFilters: [IsNotNull(feature), EqualTo(feature,StreamingTV), IsNotNull(customerID)], ReadSchema: struct<customerID:string,feature:string,value:string>\n",
      "   :     :                 +- GpuBroadcastExchange HashedRelationBroadcastMode(List(input[0, string, true]),false), [id=#877]\n",
      "   :     :                    +- GpuProject [customerID#101, value#103 AS StreamingMovies#138]\n",
      "   :     :                       +- GpuCoalesceBatches targetsize(2147483647)\n",
      "   :     :                          +- GpuFilter ((gpuisnotnull(feature#102) AND (feature#102 = StreamingMovies)) AND gpuisnotnull(customerID#101))\n",
      "   :     :                             +- GpuFileGpuScan parquet [customerID#101,feature#102,value#103] Batched: true, DataFilters: [isnotnull(feature#102), (feature#102 = StreamingMovies), isnotnull(customerID#101)], Format: Parquet, Location: InMemoryFileIndex[file:/home/mike/git/telco-churn-augmentation/customer_internet_features.parquet], PartitionFilters: [], PushedFilters: [IsNotNull(feature), EqualTo(feature,StreamingMovies), IsNotNull(customerID)], ReadSchema: struct<customerID:string,feature:string,value:string>\n",
      "   :     +- GpuColumnarToRow false\n",
      "   :        +- GpuSort [customerID#296 ASC NULLS FIRST], false, com.nvidia.spark.rapids.OutOfCoreSort$@2ad5e9c1\n",
      "   :           +- GpuProject [customerID#296, Contract#211, CASE WHEN gpuisnull(PaperlessBilling#214) THEN No ELSE PaperlessBilling#214 END AS PaperlessBilling#230, PaymentMethod#217]\n",
      "   :              +- GpuBroadcastHashJoin [customerID#296], [customerID#192], LeftOuter, GpuBuildRight\n",
      "   :                 :- GpuProject [customerID#296, Contract#211, PaperlessBilling#214]\n",
      "   :                 :  +- GpuBroadcastHashJoin [customerID#296], [customerID#192], LeftOuter, GpuBuildRight\n",
      "   :                 :     :- GpuProject [customerID#296, Contract#211]\n",
      "   :                 :     :  +- GpuBroadcastHashJoin [customerID#296], [customerID#192], LeftOuter, GpuBuildRight\n",
      "   :                 :     :     :- GpuHashAggregate(keys=[customerID#296], functions=[]), filters=ArrayBuffer())\n",
      "   :                 :     :     :  +- GpuShuffleCoalesce 2147483647\n",
      "   :                 :     :     :     +- ReusedExchange [customerID#296], GpuColumnarExchange gpuhashpartitioning(customerID#258, 200), ENSURE_REQUIREMENTS, [id=#795]\n",
      "   :                 :     :     +- GpuBroadcastExchange HashedRelationBroadcastMode(List(input[0, string, true]),false), [id=#892]\n",
      "   :                 :     :        +- GpuProject [customerID#192, value#194 AS Contract#211]\n",
      "   :                 :     :           +- GpuCoalesceBatches targetsize(2147483647)\n",
      "   :                 :     :              +- GpuFilter ((gpuisnotnull(feature#193) AND (feature#193 = Contract)) AND gpuisnotnull(customerID#192))\n",
      "   :                 :     :                 +- GpuFileGpuScan parquet [customerID#192,feature#193,value#194] Batched: true, DataFilters: [isnotnull(feature#193), (feature#193 = Contract), isnotnull(customerID#192)], Format: Parquet, Location: InMemoryFileIndex[file:/home/mike/git/telco-churn-augmentation/customer_account_features.parquet], PartitionFilters: [], PushedFilters: [IsNotNull(feature), EqualTo(feature,Contract), IsNotNull(customerID)], ReadSchema: struct<customerID:string,feature:string,value:string>\n",
      "   :                 :     +- GpuBroadcastExchange HashedRelationBroadcastMode(List(input[0, string, true]),false), [id=#897]\n",
      "   :                 :        +- GpuProject [customerID#192, value#194 AS PaperlessBilling#214]\n",
      "   :                 :           +- GpuCoalesceBatches targetsize(2147483647)\n",
      "   :                 :              +- GpuFilter ((gpuisnotnull(feature#193) AND (feature#193 = PaperlessBilling)) AND gpuisnotnull(customerID#192))\n",
      "   :                 :                 +- GpuFileGpuScan parquet [customerID#192,feature#193,value#194] Batched: true, DataFilters: [isnotnull(feature#193), (feature#193 = PaperlessBilling), isnotnull(customerID#192)], Format: Parquet, Location: InMemoryFileIndex[file:/home/mike/git/telco-churn-augmentation/customer_account_features.parquet], PartitionFilters: [], PushedFilters: [IsNotNull(feature), EqualTo(feature,PaperlessBilling), IsNotNull(customerID)], ReadSchema: struct<customerID:string,feature:string,value:string>\n",
      "   :                 +- GpuBroadcastExchange HashedRelationBroadcastMode(List(input[0, string, true]),false), [id=#902]\n",
      "   :                    +- GpuProject [customerID#192, value#194 AS PaymentMethod#217]\n",
      "   :                       +- GpuCoalesceBatches targetsize(2147483647)\n",
      "   :                          +- GpuFilter ((gpuisnotnull(feature#193) AND (feature#193 = PaymentMethod)) AND gpuisnotnull(customerID#192))\n",
      "   :                             +- GpuFileGpuScan parquet [customerID#192,feature#193,value#194] Batched: true, DataFilters: [isnotnull(feature#193), (feature#193 = PaymentMethod), isnotnull(customerID#192)], Format: Parquet, Location: InMemoryFileIndex[file:/home/mike/git/telco-churn-augmentation/customer_account_features.parquet], PartitionFilters: [], PushedFilters: [IsNotNull(feature), EqualTo(feature,PaymentMethod), IsNotNull(customerID)], ReadSchema: struct<customerID:string,feature:string,value:string>\n",
      "   +- BroadcastExchange HashedRelationBroadcastMode(List(input[0, string, true]),false), [id=#1047]\n",
      "      +- *(9) Project [customerID#235, ((year(cast(now#242 as date)) > (year(dateOfBirth#236) + 65)) OR ((year(cast(now#242 as date)) = (year(dateOfBirth#236) + 65)) AND ((month(cast(now#242 as date)) < month(dateOfBirth#236)) OR ((month(cast(now#242 as date)) = month(dateOfBirth#236)) AND (dayofmonth(cast(now#242 as date)) <= dayofmonth(cast(now#242 as date))))))) AS SeniorCitizen#251, Partner#239, Dependents#240, gender#237, MonthlyCharges#241]\n",
      "         +- *(9) Filter isnotnull(customerID#235)\n",
      "            +- *(9) ColumnarToRow\n",
      "               +- FileScan parquet [customerID#235,dateOfBirth#236,gender#237,Partner#239,Dependents#240,MonthlyCharges#241,now#242] Batched: true, DataFilters: [isnotnull(customerID#235)], Format: Parquet, Location: InMemoryFileIndex[file:/home/mike/git/telco-churn-augmentation/customer_meta.parquet], PartitionFilters: [], PushedFilters: [IsNotNull(customerID)], ReadSchema: struct<customerID:string,dateOfBirth:date,gender:string,Partner:string,Dependents:string,MonthlyC...\n",
      "\n",
      "\n"
     ]
    }
   ],
   "metadata": {
    "scrolled": false
   }
  },
  {
   "cell_type": "code",
   "execution_count": 18,
   "source": [
    "%%time\n",
    "from churn.etl import write_df\n",
    "write_df(wide_data, output_file)"
   ],
   "outputs": [
    {
     "output_type": "stream",
     "name": "stderr",
     "text": []
    },
    {
     "output_type": "stream",
     "name": "stdout",
     "text": [
      "CPU times: user 810 ms, sys: 146 ms, total: 956 ms\n",
      "Wall time: 3min 40s\n"
     ]
    }
   ],
   "metadata": {}
  },
  {
   "cell_type": "markdown",
   "source": [
    "# Inspecting individual tables\n",
    "\n",
    "If we need to inspect individual components of our processing, we can.  Each constituent of these joins is registered as a temporary view.  For example, we loaded `customers` earlier using a method from `churn.etl`, but it is also available as a table:"
   ],
   "metadata": {}
  },
  {
   "cell_type": "code",
   "execution_count": 19,
   "source": [
    "customers = session.table(\"customers\")"
   ],
   "outputs": [],
   "metadata": {}
  },
  {
   "cell_type": "code",
   "execution_count": 20,
   "source": [
    "customers.show()"
   ],
   "outputs": [
    {
     "output_type": "stream",
     "name": "stderr",
     "text": []
    },
    {
     "output_type": "stream",
     "name": "stdout",
     "text": [
      "+--------------------+\n",
      "|          customerID|\n",
      "+--------------------+\n",
      "|0082-OQIQY-pUoKfE...|\n",
      "|5222-IMUKT-iQmvCv...|\n",
      "|9507-EXLTT-3UzP9O...|\n",
      "|7722-VJRQD-rt81Nn...|\n",
      "|7294-TMAOP-F7eB8h...|\n",
      "|8150-QUDFX-fW0@wc...|\n",
      "|1268-ASBGA-OACqzJ...|\n",
      "|2645-QTLMB-PjdWrt...|\n",
      "|1855-CFULU-Mg8VG5...|\n",
      "|5130-YPIRV-pCuX1v...|\n",
      "|7665-VIGUD-Z9yCIk...|\n",
      "|7426-RHZGU-uZXrFc...|\n",
      "|0022-TCJCI-lqhKlh...|\n",
      "|5575-TPIZQ-owpAU0...|\n",
      "|7010-ZMVBF-AwBEdx...|\n",
      "|3913-RDSJZ-owpAU0...|\n",
      "|1875-QIVME-3K15yQ...|\n",
      "|2397-BRLOM-OACqzJ...|\n",
      "|6870-ZWMNX-bsGHcc...|\n",
      "|2233-TXSIU-3tuH6B...|\n",
      "+--------------------+\n",
      "only showing top 20 rows\n",
      "\n"
     ]
    },
    {
     "output_type": "stream",
     "name": "stderr",
     "text": []
    }
   ],
   "metadata": {}
  },
  {
   "cell_type": "markdown",
   "source": [
    "We can see which tables are available by querying the session catalog:"
   ],
   "metadata": {}
  },
  {
   "cell_type": "code",
   "execution_count": 21,
   "source": [
    "tables = session.catalog.listTables()\n",
    "[t.name for t in tables]"
   ],
   "outputs": [
    {
     "output_type": "execute_result",
     "data": {
      "text/plain": [
       "['churned',\n",
       " 'contracts',\n",
       " 'counts_and_charges',\n",
       " 'customer_account_features',\n",
       " 'customer_account_meta',\n",
       " 'customer_billing',\n",
       " 'customer_charges',\n",
       " 'customer_internet_features',\n",
       " 'customer_phone_features',\n",
       " 'customers',\n",
       " 'device_protection',\n",
       " 'internet_service',\n",
       " 'multiple_lines',\n",
       " 'online_backup',\n",
       " 'online_security',\n",
       " 'paperless',\n",
       " 'payment',\n",
       " 'phone_service',\n",
       " 'streaming_movies',\n",
       " 'streaming_tv',\n",
       " 'tech_support',\n",
       " 'terminations']"
      ]
     },
     "metadata": {},
     "execution_count": 21
    }
   ],
   "metadata": {}
  },
  {
   "cell_type": "markdown",
   "source": [
    "# Finishing up"
   ],
   "metadata": {}
  },
  {
   "cell_type": "code",
   "execution_count": null,
   "source": [
    "session.stop()"
   ],
   "outputs": [],
   "metadata": {}
  }
 ],
 "metadata": {
  "kernelspec": {
   "name": "python3",
   "display_name": "Python 3.9.7 64-bit"
  },
  "language_info": {
   "codemirror_mode": {
    "name": "ipython",
    "version": 3
   },
   "file_extension": ".py",
   "mimetype": "text/x-python",
   "name": "python",
   "nbconvert_exporter": "python",
   "pygments_lexer": "ipython3",
   "version": "3.9.7"
  },
  "interpreter": {
   "hash": "e7370f93d1d0cde622a1f8e1c04877d8463912d04d973331ad4851f04de6915a"
  }
 },
 "nbformat": 4,
 "nbformat_minor": 4
}