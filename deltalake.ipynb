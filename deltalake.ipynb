{
 "cells": [
  {
   "cell_type": "markdown",
   "source": [
    "## Overview of Delta Lake and some use cases\n",
    "\n",
    "- https://github.com/delta-io\n",
    "\n",
    "Use Cases:\n",
    "\n",
    "- Schema Enforcement\n",
    "- Deletion\n",
    "- Updates\n",
    "- Merge\n",
    "- Time Travel\n",
    "\n",
    "![images/delta-lake.jpg](https://raw.githubusercontent.com/eformat/telco-churn-augmentation/develop/images/delta-lake.jpg)\n"
   ],
   "metadata": {}
  },
  {
   "cell_type": "code",
   "execution_count": 58,
   "source": [
    "# notebook parameters\n",
    "\n",
    "import os\n",
    "\n",
    "os.environ[\"PYSPARK_PYTHON\"] = \"/usr/bin/python3.9\"\n",
    "os.environ[\"PYSPARK_DRIVER_PYTHON\"] = \"/usr/bin/python3.9\"\n",
    "os.environ[\"JAVA_HOME\"] = \"/usr/lib/jvm/java-11-openjdk-11.0.12.0.7-4.fc34.x86_64\"\n",
    "\n",
    "spark_master = \"local[*]\"\n",
    "app_name = \"churn-etl\"\n",
    "input_files = dict(\n",
    "    billing=\"billing_events\", \n",
    "    account_features=\"customer_account_features\", \n",
    "    internet_features=\"customer_internet_features\", \n",
    "    meta=\"customer_meta\", \n",
    "    phone_features=\"customer_phone_features\"\n",
    ")\n",
    "output_file = \"churn-etl\"\n",
    "output_prefix = \"\"\n",
    "output_mode = \"overwrite\"\n",
    "output_kind = \"parquet\"\n",
    "input_kind = \"parquet\"\n",
    "driver_memory = '8g'\n",
    "executor_memory = '8g'"
   ],
   "outputs": [],
   "metadata": {}
  },
  {
   "cell_type": "code",
   "execution_count": 59,
   "source": [
    "import pyspark\n",
    "\n",
    "session = pyspark.sql.SparkSession.builder \\\n",
    "    .master(spark_master) \\\n",
    "    .appName(app_name) \\\n",
    "    .config(\"spark.eventLog.enabled\", True) \\\n",
    "    .config(\"spark.eventLog.dir\", \".\") \\\n",
    "    .config(\"spark.driver.memory\", driver_memory) \\\n",
    "    .config(\"spark.executor.memory\", executor_memory) \\\n",
    "    .config(\"spark.executor.cores\", 1) \\\n",
    "    .config(\"spark.rapids.sql.concurrentGpuTasks\", 1) \\\n",
    "    .config(\"spark.rapids.memory.pinnedPool.size\", \"2G\") \\\n",
    "    .config(\"spark.locality.wait\", \"0s\") \\\n",
    "    .config(\"spark.sql.files.maxPartitionBytes\", \"512m\") \\\n",
    "    .config(\"spark.plugins\", \"com.nvidia.spark.SQLPlugin\") \\\n",
    "    .config(\"spark.jars\", \"/opt/sparkRapidsPlugin/cudf-21.08.2-cuda11.jar,/opt/sparkRapidsPlugin/rapids-4-spark_2.12-21.08.0.jar\") \\\n",
    "    .config(\"spark.jars.packages\", \"io.delta:delta-core_2.12:1.0.0\") \\\n",
    "    .config(\"spark.sql.extensions\", \"io.delta.sql.DeltaSparkSessionExtension\") \\\n",
    "    .config(\"spark.sql.catalog.spark_catalog\", \"org.apache.spark.sql.delta.catalog.DeltaCatalog\") \\\n",
    "    .getOrCreate()\n",
    "session"
   ],
   "outputs": [
    {
     "output_type": "stream",
     "name": "stderr",
     "text": [
      "21/10/08 10:30:33 WARN GpuDeviceManager: Initial RMM allocation (3224.0244140625 MB) is larger than the adjusted maximum allocation (3018.375 MB), lowering initial allocation to the adjusted maximum allocation.\n",
      "21/10/08 10:30:34 WARN SQLExecPlugin: RAPIDS Accelerator 21.08.0 using cudf 21.08.2. To disable GPU support set `spark.rapids.sql.enabled` to false\n",
      "21/10/08 10:30:34 WARN Plugin: Installing rapids UDF compiler extensions to Spark. The compiler is disabled by default. To enable it, set `spark.rapids.sql.udfCompiler.enabled` to true\n"
     ]
    },
    {
     "output_type": "execute_result",
     "data": {
      "text/html": [
       "\n",
       "            <div>\n",
       "                <p><b>SparkSession - in-memory</b></p>\n",
       "                \n",
       "        <div>\n",
       "            <p><b>SparkContext</b></p>\n",
       "\n",
       "            <p><a href=\"http://192.168.86.109:4040\">Spark UI</a></p>\n",
       "\n",
       "            <dl>\n",
       "              <dt>Version</dt>\n",
       "                <dd><code>v3.1.2</code></dd>\n",
       "              <dt>Master</dt>\n",
       "                <dd><code>local[*]</code></dd>\n",
       "              <dt>AppName</dt>\n",
       "                <dd><code>churn-etl</code></dd>\n",
       "            </dl>\n",
       "        </div>\n",
       "        \n",
       "            </div>\n",
       "        "
      ],
      "text/plain": [
       "<pyspark.sql.session.SparkSession at 0x7f1e19321670>"
      ]
     },
     "metadata": {},
     "execution_count": 59
    }
   ],
   "metadata": {}
  },
  {
   "cell_type": "markdown",
   "source": [
    "### Schema Enforcement\n",
    "\n",
    "With Delta Lake “schema on write” is followed, so any changes in schema when writing will be tracked and any discrepancy will raise an exception at that time.\n",
    "\n",
    "Below code will make a dataframe of 1–5 numbers and we will write it as a Delta table."
   ],
   "metadata": {}
  },
  {
   "cell_type": "code",
   "execution_count": 60,
   "source": [
    "import shutil\n",
    "shutil.rmtree(\"/tmp/data/delta_sample\", ignore_errors=True)\n",
    "\n",
    "data = session.range(1,5)\n",
    "data.write.format(\"delta\").mode(\"overwrite\").save(\"/tmp/data/delta_sample\")"
   ],
   "outputs": [
    {
     "output_type": "stream",
     "name": "stderr",
     "text": []
    }
   ],
   "metadata": {}
  },
  {
   "cell_type": "code",
   "execution_count": 68,
   "source": [
    "import glob\n",
    "print(glob.glob(\"/tmp/data/delta_sample/*\"))"
   ],
   "outputs": [
    {
     "output_type": "stream",
     "name": "stdout",
     "text": [
      "['/tmp/data/delta_sample/part-00000-fe9b4ee3-c4da-4f1d-9e84-db6f07d17f5e-c000.snappy.parquet', '/tmp/data/delta_sample/part-00003-8bde0667-6254-477e-919a-c11ea03a471e-c000.snappy.parquet', '/tmp/data/delta_sample/part-00004-3ee3c741-aac5-4dbc-b4ed-869bf4d18925-c000.snappy.parquet', '/tmp/data/delta_sample/part-00001-82579b16-a31c-4258-9805-aea030960718-c000.snappy.parquet', '/tmp/data/delta_sample/part-00006-b66d3f3d-1198-4649-8149-59a2457cba06-c000.snappy.parquet', '/tmp/data/delta_sample/part-00007-f6097749-d798-422d-ac01-f17025e93203-c000.snappy.parquet', '/tmp/data/delta_sample/part-00000-e0853e7e-3893-4b1d-9cb9-853b10894ae0-c000.snappy.parquet', '/tmp/data/delta_sample/part-00001-4dbd76f2-7dad-47ed-80dc-e3aef8a7088d-c000.snappy.parquet', '/tmp/data/delta_sample/part-00003-6ebb27ae-9c5c-4d29-8e4b-48b42ec8cb3c-c000.snappy.parquet', '/tmp/data/delta_sample/part-00005-d74d5c06-ff82-4ad0-be9e-1d415f3af4f0-c000.snappy.parquet', '/tmp/data/delta_sample/part-00007-88f53701-3b64-4a89-9b7c-afcf96f26fdb-c000.snappy.parquet', '/tmp/data/delta_sample/part-00000-d53fa19c-ac14-4ab2-9689-22e3bb17966b-c000.snappy.parquet', '/tmp/data/delta_sample/_delta_log']\n"
     ]
    }
   ],
   "metadata": {}
  },
  {
   "cell_type": "markdown",
   "source": [
    "Now, make a dataframe with numbers from 5–10 and will give its datatype as String and append the dataset on our existing dataset."
   ],
   "metadata": {}
  },
  {
   "cell_type": "code",
   "execution_count": 62,
   "source": [
    "import pyspark.sql.functions as fn\n",
    "new_data = session.range(5,10)\n",
    "new_data = new_data.withColumn(\"id\",fn.col(\"id\").cast(\"String\"))\n",
    "new_data.write.format(\"delta\").mode(\"append\").save(\"/tmp/data/delta_sample\")"
   ],
   "outputs": [
    {
     "output_type": "error",
     "ename": "AnalysisException",
     "evalue": "Failed to merge fields 'id' and 'id'. Failed to merge incompatible data types LongType and StringType",
     "traceback": [
      "\u001b[0;31m---------------------------------------------------------------------------\u001b[0m",
      "\u001b[0;31mAnalysisException\u001b[0m                         Traceback (most recent call last)",
      "\u001b[0;32m/tmp/ipykernel_2094404/3730595234.py\u001b[0m in \u001b[0;36m<module>\u001b[0;34m\u001b[0m\n\u001b[1;32m      2\u001b[0m \u001b[0mnew_data\u001b[0m \u001b[0;34m=\u001b[0m \u001b[0msession\u001b[0m\u001b[0;34m.\u001b[0m\u001b[0mrange\u001b[0m\u001b[0;34m(\u001b[0m\u001b[0;36m5\u001b[0m\u001b[0;34m,\u001b[0m\u001b[0;36m10\u001b[0m\u001b[0;34m)\u001b[0m\u001b[0;34m\u001b[0m\u001b[0;34m\u001b[0m\u001b[0m\n\u001b[1;32m      3\u001b[0m \u001b[0mnew_data\u001b[0m \u001b[0;34m=\u001b[0m \u001b[0mnew_data\u001b[0m\u001b[0;34m.\u001b[0m\u001b[0mwithColumn\u001b[0m\u001b[0;34m(\u001b[0m\u001b[0;34m\"id\"\u001b[0m\u001b[0;34m,\u001b[0m\u001b[0mfn\u001b[0m\u001b[0;34m.\u001b[0m\u001b[0mcol\u001b[0m\u001b[0;34m(\u001b[0m\u001b[0;34m\"id\"\u001b[0m\u001b[0;34m)\u001b[0m\u001b[0;34m.\u001b[0m\u001b[0mcast\u001b[0m\u001b[0;34m(\u001b[0m\u001b[0;34m\"String\"\u001b[0m\u001b[0;34m)\u001b[0m\u001b[0;34m)\u001b[0m\u001b[0;34m\u001b[0m\u001b[0;34m\u001b[0m\u001b[0m\n\u001b[0;32m----> 4\u001b[0;31m \u001b[0mnew_data\u001b[0m\u001b[0;34m.\u001b[0m\u001b[0mwrite\u001b[0m\u001b[0;34m.\u001b[0m\u001b[0mformat\u001b[0m\u001b[0;34m(\u001b[0m\u001b[0;34m\"delta\"\u001b[0m\u001b[0;34m)\u001b[0m\u001b[0;34m.\u001b[0m\u001b[0mmode\u001b[0m\u001b[0;34m(\u001b[0m\u001b[0;34m\"append\"\u001b[0m\u001b[0;34m)\u001b[0m\u001b[0;34m.\u001b[0m\u001b[0msave\u001b[0m\u001b[0;34m(\u001b[0m\u001b[0;34m\"/tmp/data/delta_sample\"\u001b[0m\u001b[0;34m)\u001b[0m\u001b[0;34m\u001b[0m\u001b[0;34m\u001b[0m\u001b[0m\n\u001b[0m",
      "\u001b[0;32m~/.local/lib/python3.9/site-packages/pyspark/sql/readwriter.py\u001b[0m in \u001b[0;36msave\u001b[0;34m(self, path, format, mode, partitionBy, **options)\u001b[0m\n\u001b[1;32m   1107\u001b[0m             \u001b[0mself\u001b[0m\u001b[0;34m.\u001b[0m\u001b[0m_jwrite\u001b[0m\u001b[0;34m.\u001b[0m\u001b[0msave\u001b[0m\u001b[0;34m(\u001b[0m\u001b[0;34m)\u001b[0m\u001b[0;34m\u001b[0m\u001b[0;34m\u001b[0m\u001b[0m\n\u001b[1;32m   1108\u001b[0m         \u001b[0;32melse\u001b[0m\u001b[0;34m:\u001b[0m\u001b[0;34m\u001b[0m\u001b[0;34m\u001b[0m\u001b[0m\n\u001b[0;32m-> 1109\u001b[0;31m             \u001b[0mself\u001b[0m\u001b[0;34m.\u001b[0m\u001b[0m_jwrite\u001b[0m\u001b[0;34m.\u001b[0m\u001b[0msave\u001b[0m\u001b[0;34m(\u001b[0m\u001b[0mpath\u001b[0m\u001b[0;34m)\u001b[0m\u001b[0;34m\u001b[0m\u001b[0;34m\u001b[0m\u001b[0m\n\u001b[0m\u001b[1;32m   1110\u001b[0m \u001b[0;34m\u001b[0m\u001b[0m\n\u001b[1;32m   1111\u001b[0m     \u001b[0;34m@\u001b[0m\u001b[0msince\u001b[0m\u001b[0;34m(\u001b[0m\u001b[0;36m1.4\u001b[0m\u001b[0;34m)\u001b[0m\u001b[0;34m\u001b[0m\u001b[0;34m\u001b[0m\u001b[0m\n",
      "\u001b[0;32m~/.local/lib/python3.9/site-packages/py4j/java_gateway.py\u001b[0m in \u001b[0;36m__call__\u001b[0;34m(self, *args)\u001b[0m\n\u001b[1;32m   1302\u001b[0m \u001b[0;34m\u001b[0m\u001b[0m\n\u001b[1;32m   1303\u001b[0m         \u001b[0manswer\u001b[0m \u001b[0;34m=\u001b[0m \u001b[0mself\u001b[0m\u001b[0;34m.\u001b[0m\u001b[0mgateway_client\u001b[0m\u001b[0;34m.\u001b[0m\u001b[0msend_command\u001b[0m\u001b[0;34m(\u001b[0m\u001b[0mcommand\u001b[0m\u001b[0;34m)\u001b[0m\u001b[0;34m\u001b[0m\u001b[0;34m\u001b[0m\u001b[0m\n\u001b[0;32m-> 1304\u001b[0;31m         return_value = get_return_value(\n\u001b[0m\u001b[1;32m   1305\u001b[0m             answer, self.gateway_client, self.target_id, self.name)\n\u001b[1;32m   1306\u001b[0m \u001b[0;34m\u001b[0m\u001b[0m\n",
      "\u001b[0;32m~/.local/lib/python3.9/site-packages/pyspark/sql/utils.py\u001b[0m in \u001b[0;36mdeco\u001b[0;34m(*a, **kw)\u001b[0m\n\u001b[1;32m    115\u001b[0m                 \u001b[0;31m# Hide where the exception came from that shows a non-Pythonic\u001b[0m\u001b[0;34m\u001b[0m\u001b[0;34m\u001b[0m\u001b[0m\n\u001b[1;32m    116\u001b[0m                 \u001b[0;31m# JVM exception message.\u001b[0m\u001b[0;34m\u001b[0m\u001b[0;34m\u001b[0m\u001b[0m\n\u001b[0;32m--> 117\u001b[0;31m                 \u001b[0;32mraise\u001b[0m \u001b[0mconverted\u001b[0m \u001b[0;32mfrom\u001b[0m \u001b[0;32mNone\u001b[0m\u001b[0;34m\u001b[0m\u001b[0;34m\u001b[0m\u001b[0m\n\u001b[0m\u001b[1;32m    118\u001b[0m             \u001b[0;32melse\u001b[0m\u001b[0;34m:\u001b[0m\u001b[0;34m\u001b[0m\u001b[0;34m\u001b[0m\u001b[0m\n\u001b[1;32m    119\u001b[0m                 \u001b[0;32mraise\u001b[0m\u001b[0;34m\u001b[0m\u001b[0;34m\u001b[0m\u001b[0m\n",
      "\u001b[0;31mAnalysisException\u001b[0m: Failed to merge fields 'id' and 'id'. Failed to merge incompatible data types LongType and StringType"
     ]
    }
   ],
   "metadata": {}
  },
  {
   "cell_type": "markdown",
   "source": [
    "We get an error **AnalysisException: Failed to merge fields 'id' and 'id'. Failed to merge incompatible data types LongType and StringType** which is good.\n",
    "\n",
    "Delta lake stopped the incorrect data to go in our delta lake.\n",
    "\n",
    "Let's append the dataset with correct schema."
   ],
   "metadata": {}
  },
  {
   "cell_type": "code",
   "execution_count": 63,
   "source": [
    "new_data = session.range(5,10)\n",
    "new_data.write.format(\"delta\").mode(\"append\").save(\"/tmp/data/delta_sample\")"
   ],
   "outputs": [
    {
     "output_type": "stream",
     "name": "stderr",
     "text": []
    }
   ],
   "metadata": {}
  },
  {
   "cell_type": "markdown",
   "source": [
    "We can check the delta logs and see the we added the part files which were newly written on the dataset along with specifying information such as mode of write and modification time."
   ],
   "metadata": {}
  },
  {
   "cell_type": "code",
   "execution_count": 64,
   "source": [
    "os.chdir(\"/tmp/data/delta_sample/_delta_log\")\n",
    "for file in glob.glob(\"*.json\"):\n",
    "    print(file)\n",
    "    print(open(file).read())\n"
   ],
   "outputs": [
    {
     "output_type": "stream",
     "name": "stdout",
     "text": [
      "00000000000000000001.json\n",
      "{\"commitInfo\":{\"timestamp\":1633653152031,\"operation\":\"WRITE\",\"operationParameters\":{\"mode\":\"Append\",\"partitionBy\":\"[]\"},\"readVersion\":0,\"isBlindAppend\":true,\"operationMetrics\":{\"numFiles\":\"6\",\"numOutputBytes\":\"2611\",\"numOutputRows\":\"5\"}}}\n",
      "{\"add\":{\"path\":\"part-00000-e0853e7e-3893-4b1d-9cb9-853b10894ae0-c000.snappy.parquet\",\"partitionValues\":{},\"size\":296,\"modificationTime\":1633653151983,\"dataChange\":true}}\n",
      "{\"add\":{\"path\":\"part-00001-82579b16-a31c-4258-9805-aea030960718-c000.snappy.parquet\",\"partitionValues\":{},\"size\":463,\"modificationTime\":1633653152020,\"dataChange\":true}}\n",
      "{\"add\":{\"path\":\"part-00003-8bde0667-6254-477e-919a-c11ea03a471e-c000.snappy.parquet\",\"partitionValues\":{},\"size\":463,\"modificationTime\":1633653152005,\"dataChange\":true}}\n",
      "{\"add\":{\"path\":\"part-00004-3ee3c741-aac5-4dbc-b4ed-869bf4d18925-c000.snappy.parquet\",\"partitionValues\":{},\"size\":463,\"modificationTime\":1633653152000,\"dataChange\":true}}\n",
      "{\"add\":{\"path\":\"part-00006-b66d3f3d-1198-4649-8149-59a2457cba06-c000.snappy.parquet\",\"partitionValues\":{},\"size\":463,\"modificationTime\":1633653152016,\"dataChange\":true}}\n",
      "{\"add\":{\"path\":\"part-00007-f6097749-d798-422d-ac01-f17025e93203-c000.snappy.parquet\",\"partitionValues\":{},\"size\":463,\"modificationTime\":1633653152024,\"dataChange\":true}}\n",
      "\n",
      "00000000000000000000.json\n",
      "{\"commitInfo\":{\"timestamp\":1633653121387,\"operation\":\"WRITE\",\"operationParameters\":{\"mode\":\"Overwrite\",\"partitionBy\":\"[]\"},\"isBlindAppend\":false,\"operationMetrics\":{\"numFiles\":\"5\",\"numOutputBytes\":\"2148\",\"numOutputRows\":\"4\"}}}\n",
      "{\"protocol\":{\"minReaderVersion\":1,\"minWriterVersion\":2}}\n",
      "{\"metaData\":{\"id\":\"e45ca78c-132e-45a0-a634-1e9ce7ed903f\",\"format\":{\"provider\":\"parquet\",\"options\":{}},\"schemaString\":\"{\\\"type\\\":\\\"struct\\\",\\\"fields\\\":[{\\\"name\\\":\\\"id\\\",\\\"type\\\":\\\"long\\\",\\\"nullable\\\":true,\\\"metadata\\\":{}}]}\",\"partitionColumns\":[],\"configuration\":{},\"createdTime\":1633653121103}}\n",
      "{\"add\":{\"path\":\"part-00000-d53fa19c-ac14-4ab2-9689-22e3bb17966b-c000.snappy.parquet\",\"partitionValues\":{},\"size\":296,\"modificationTime\":1633653121222,\"dataChange\":true}}\n",
      "{\"add\":{\"path\":\"part-00001-4dbd76f2-7dad-47ed-80dc-e3aef8a7088d-c000.snappy.parquet\",\"partitionValues\":{},\"size\":463,\"modificationTime\":1633653121245,\"dataChange\":true}}\n",
      "{\"add\":{\"path\":\"part-00003-6ebb27ae-9c5c-4d29-8e4b-48b42ec8cb3c-c000.snappy.parquet\",\"partitionValues\":{},\"size\":463,\"modificationTime\":1633653121235,\"dataChange\":true}}\n",
      "{\"add\":{\"path\":\"part-00005-d74d5c06-ff82-4ad0-be9e-1d415f3af4f0-c000.snappy.parquet\",\"partitionValues\":{},\"size\":463,\"modificationTime\":1633653121236,\"dataChange\":true}}\n",
      "{\"add\":{\"path\":\"part-00007-88f53701-3b64-4a89-9b7c-afcf96f26fdb-c000.snappy.parquet\",\"partitionValues\":{},\"size\":463,\"modificationTime\":1633653121240,\"dataChange\":true}}\n",
      "\n"
     ]
    }
   ],
   "metadata": {}
  },
  {
   "cell_type": "markdown",
   "source": [
    "### Deletion\n",
    "\n",
    "Lets read our table we just wrote in Delta Format."
   ],
   "metadata": {}
  },
  {
   "cell_type": "code",
   "execution_count": 69,
   "source": [
    "from delta.tables import *\n",
    "delta_df = DeltaTable.forPath(session, \"/tmp/data/delta_sample\")\n",
    "delta_df"
   ],
   "outputs": [
    {
     "output_type": "execute_result",
     "data": {
      "text/plain": [
       "<delta.tables.DeltaTable at 0x7f1e19808130>"
      ]
     },
     "metadata": {},
     "execution_count": 69
    }
   ],
   "metadata": {}
  },
  {
   "cell_type": "markdown",
   "source": [
    "Now, we will delete the data where id is ≤2."
   ],
   "metadata": {}
  },
  {
   "cell_type": "code",
   "execution_count": 66,
   "source": [
    "delta_df.delete(\"id<=2\")"
   ],
   "outputs": [
    {
     "output_type": "stream",
     "name": "stderr",
     "text": []
    }
   ],
   "metadata": {}
  },
  {
   "cell_type": "markdown",
   "source": [
    "Let’s checkout how the commit log is written for delete operation.\n",
    "\n",
    "It guides spark to delete the original part files through remove and then add the new part file with predicate as id≤2, the operation performed(DELETE) is specified"
   ],
   "metadata": {}
  },
  {
   "cell_type": "code",
   "execution_count": 67,
   "source": [
    "os.chdir(\"/tmp/data/delta_sample/_delta_log\")\n",
    "for file in glob.glob(\"*.json\"):\n",
    "    print(file)\n",
    "    print(open(file).read())"
   ],
   "outputs": [
    {
     "output_type": "stream",
     "name": "stdout",
     "text": [
      "00000000000000000002.json\n",
      "{\"commitInfo\":{\"timestamp\":1633653191043,\"operation\":\"DELETE\",\"operationParameters\":{\"predicate\":\"[\\\"(`id` <= 2L)\\\"]\"},\"readVersion\":1,\"isBlindAppend\":false,\"operationMetrics\":{\"numRemovedFiles\":\"1\",\"numCopiedRows\":\"0\",\"executionTimeMs\":\"1559\",\"numDeletedRows\":\"2\",\"scanTimeMs\":\"1363\",\"numAddedFiles\":\"1\",\"rewriteTimeMs\":\"195\"}}}\n",
      "{\"remove\":{\"path\":\"part-00003-6ebb27ae-9c5c-4d29-8e4b-48b42ec8cb3c-c000.snappy.parquet\",\"deletionTimestamp\":1633653191042,\"dataChange\":true,\"extendedFileMetadata\":true,\"partitionValues\":{},\"size\":463}}\n",
      "{\"add\":{\"path\":\"part-00000-fe9b4ee3-c4da-4f1d-9e84-db6f07d17f5e-c000.snappy.parquet\",\"partitionValues\":{},\"size\":296,\"modificationTime\":1633653191038,\"dataChange\":true}}\n",
      "\n",
      "00000000000000000001.json\n",
      "{\"commitInfo\":{\"timestamp\":1633653152031,\"operation\":\"WRITE\",\"operationParameters\":{\"mode\":\"Append\",\"partitionBy\":\"[]\"},\"readVersion\":0,\"isBlindAppend\":true,\"operationMetrics\":{\"numFiles\":\"6\",\"numOutputBytes\":\"2611\",\"numOutputRows\":\"5\"}}}\n",
      "{\"add\":{\"path\":\"part-00000-e0853e7e-3893-4b1d-9cb9-853b10894ae0-c000.snappy.parquet\",\"partitionValues\":{},\"size\":296,\"modificationTime\":1633653151983,\"dataChange\":true}}\n",
      "{\"add\":{\"path\":\"part-00001-82579b16-a31c-4258-9805-aea030960718-c000.snappy.parquet\",\"partitionValues\":{},\"size\":463,\"modificationTime\":1633653152020,\"dataChange\":true}}\n",
      "{\"add\":{\"path\":\"part-00003-8bde0667-6254-477e-919a-c11ea03a471e-c000.snappy.parquet\",\"partitionValues\":{},\"size\":463,\"modificationTime\":1633653152005,\"dataChange\":true}}\n",
      "{\"add\":{\"path\":\"part-00004-3ee3c741-aac5-4dbc-b4ed-869bf4d18925-c000.snappy.parquet\",\"partitionValues\":{},\"size\":463,\"modificationTime\":1633653152000,\"dataChange\":true}}\n",
      "{\"add\":{\"path\":\"part-00006-b66d3f3d-1198-4649-8149-59a2457cba06-c000.snappy.parquet\",\"partitionValues\":{},\"size\":463,\"modificationTime\":1633653152016,\"dataChange\":true}}\n",
      "{\"add\":{\"path\":\"part-00007-f6097749-d798-422d-ac01-f17025e93203-c000.snappy.parquet\",\"partitionValues\":{},\"size\":463,\"modificationTime\":1633653152024,\"dataChange\":true}}\n",
      "\n",
      "00000000000000000000.json\n",
      "{\"commitInfo\":{\"timestamp\":1633653121387,\"operation\":\"WRITE\",\"operationParameters\":{\"mode\":\"Overwrite\",\"partitionBy\":\"[]\"},\"isBlindAppend\":false,\"operationMetrics\":{\"numFiles\":\"5\",\"numOutputBytes\":\"2148\",\"numOutputRows\":\"4\"}}}\n",
      "{\"protocol\":{\"minReaderVersion\":1,\"minWriterVersion\":2}}\n",
      "{\"metaData\":{\"id\":\"e45ca78c-132e-45a0-a634-1e9ce7ed903f\",\"format\":{\"provider\":\"parquet\",\"options\":{}},\"schemaString\":\"{\\\"type\\\":\\\"struct\\\",\\\"fields\\\":[{\\\"name\\\":\\\"id\\\",\\\"type\\\":\\\"long\\\",\\\"nullable\\\":true,\\\"metadata\\\":{}}]}\",\"partitionColumns\":[],\"configuration\":{},\"createdTime\":1633653121103}}\n",
      "{\"add\":{\"path\":\"part-00000-d53fa19c-ac14-4ab2-9689-22e3bb17966b-c000.snappy.parquet\",\"partitionValues\":{},\"size\":296,\"modificationTime\":1633653121222,\"dataChange\":true}}\n",
      "{\"add\":{\"path\":\"part-00001-4dbd76f2-7dad-47ed-80dc-e3aef8a7088d-c000.snappy.parquet\",\"partitionValues\":{},\"size\":463,\"modificationTime\":1633653121245,\"dataChange\":true}}\n",
      "{\"add\":{\"path\":\"part-00003-6ebb27ae-9c5c-4d29-8e4b-48b42ec8cb3c-c000.snappy.parquet\",\"partitionValues\":{},\"size\":463,\"modificationTime\":1633653121235,\"dataChange\":true}}\n",
      "{\"add\":{\"path\":\"part-00005-d74d5c06-ff82-4ad0-be9e-1d415f3af4f0-c000.snappy.parquet\",\"partitionValues\":{},\"size\":463,\"modificationTime\":1633653121236,\"dataChange\":true}}\n",
      "{\"add\":{\"path\":\"part-00007-88f53701-3b64-4a89-9b7c-afcf96f26fdb-c000.snappy.parquet\",\"partitionValues\":{},\"size\":463,\"modificationTime\":1633653121240,\"dataChange\":true}}\n",
      "\n"
     ]
    }
   ],
   "metadata": {}
  },
  {
   "cell_type": "markdown",
   "source": [
    "### Updates\n",
    "\n",
    "We will read the dataset again and will update the value from 5 to 500."
   ],
   "metadata": {}
  },
  {
   "cell_type": "code",
   "execution_count": 71,
   "source": [
    "delta_df = DeltaTable.forPath(session, \"/tmp/data/delta_sample\")\n",
    "delta_df.update(condition = \"id = 5\", set = { \"id\": \"500\" })\n",
    "delta_df.toDF().show()"
   ],
   "outputs": [
    {
     "output_type": "stream",
     "name": "stderr",
     "text": []
    },
    {
     "output_type": "stream",
     "name": "stdout",
     "text": [
      "+---+\n",
      "| id|\n",
      "+---+\n",
      "|  8|\n",
      "|  3|\n",
      "|  6|\n",
      "|  7|\n",
      "|  4|\n",
      "|  1|\n",
      "|  9|\n",
      "|500|\n",
      "+---+\n",
      "\n"
     ]
    }
   ],
   "metadata": {}
  },
  {
   "cell_type": "markdown",
   "source": [
    "The above operation is will set id to 500 where it is 5, the Delta Table is auto refresh as the data is updated. \n",
    "\n",
    "As you can see the syntax is very simple."
   ],
   "metadata": {}
  },
  {
   "cell_type": "code",
   "execution_count": 72,
   "source": [
    "os.chdir(\"/tmp/data/delta_sample/_delta_log\")\n",
    "for file in glob.glob(\"*.json\"):\n",
    "    print(file)\n",
    "    print(open(file).read())"
   ],
   "outputs": [
    {
     "output_type": "stream",
     "name": "stdout",
     "text": [
      "00000000000000000004.json\n",
      "{\"commitInfo\":{\"timestamp\":1633653302852,\"operation\":\"UPDATE\",\"operationParameters\":{\"predicate\":\"(id#12463L = 5)\"},\"readVersion\":3,\"isBlindAppend\":false,\"operationMetrics\":{\"numRemovedFiles\":\"1\",\"numCopiedRows\":\"0\",\"executionTimeMs\":\"2472\",\"scanTimeMs\":\"2110\",\"numAddedFiles\":\"1\",\"numUpdatedRows\":\"1\",\"rewriteTimeMs\":\"362\"}}}\n",
      "{\"remove\":{\"path\":\"part-00001-82579b16-a31c-4258-9805-aea030960718-c000.snappy.parquet\",\"deletionTimestamp\":1633653302490,\"dataChange\":true,\"extendedFileMetadata\":true,\"partitionValues\":{},\"size\":463}}\n",
      "{\"add\":{\"path\":\"part-00000-6810adf8-4a69-47a9-8d8e-3417d6056d02-c000.snappy.parquet\",\"partitionValues\":{},\"size\":463,\"modificationTime\":1633653302844,\"dataChange\":true}}\n",
      "\n",
      "00000000000000000003.json\n",
      "{\"commitInfo\":{\"timestamp\":1633653289670,\"operation\":\"UPDATE\",\"operationParameters\":{\"predicate\":\"(id#11855L = 5)\"},\"readVersion\":2,\"isBlindAppend\":false,\"operationMetrics\":{\"numRemovedFiles\":\"1\",\"numCopiedRows\":\"0\",\"executionTimeMs\":\"1271\",\"scanTimeMs\":\"1089\",\"numAddedFiles\":\"1\",\"numUpdatedRows\":\"1\",\"rewriteTimeMs\":\"182\"}}}\n",
      "{\"remove\":{\"path\":\"part-00005-d74d5c06-ff82-4ad0-be9e-1d415f3af4f0-c000.snappy.parquet\",\"deletionTimestamp\":1633653289488,\"dataChange\":true,\"extendedFileMetadata\":true,\"partitionValues\":{},\"size\":463}}\n",
      "{\"add\":{\"path\":\"part-00000-62d37829-3298-4eb2-8843-6151a794915e-c000.snappy.parquet\",\"partitionValues\":{},\"size\":463,\"modificationTime\":1633653289666,\"dataChange\":true}}\n",
      "\n",
      "00000000000000000002.json\n",
      "{\"commitInfo\":{\"timestamp\":1633653191043,\"operation\":\"DELETE\",\"operationParameters\":{\"predicate\":\"[\\\"(`id` <= 2L)\\\"]\"},\"readVersion\":1,\"isBlindAppend\":false,\"operationMetrics\":{\"numRemovedFiles\":\"1\",\"numCopiedRows\":\"0\",\"executionTimeMs\":\"1559\",\"numDeletedRows\":\"2\",\"scanTimeMs\":\"1363\",\"numAddedFiles\":\"1\",\"rewriteTimeMs\":\"195\"}}}\n",
      "{\"remove\":{\"path\":\"part-00003-6ebb27ae-9c5c-4d29-8e4b-48b42ec8cb3c-c000.snappy.parquet\",\"deletionTimestamp\":1633653191042,\"dataChange\":true,\"extendedFileMetadata\":true,\"partitionValues\":{},\"size\":463}}\n",
      "{\"add\":{\"path\":\"part-00000-fe9b4ee3-c4da-4f1d-9e84-db6f07d17f5e-c000.snappy.parquet\",\"partitionValues\":{},\"size\":296,\"modificationTime\":1633653191038,\"dataChange\":true}}\n",
      "\n",
      "00000000000000000001.json\n",
      "{\"commitInfo\":{\"timestamp\":1633653152031,\"operation\":\"WRITE\",\"operationParameters\":{\"mode\":\"Append\",\"partitionBy\":\"[]\"},\"readVersion\":0,\"isBlindAppend\":true,\"operationMetrics\":{\"numFiles\":\"6\",\"numOutputBytes\":\"2611\",\"numOutputRows\":\"5\"}}}\n",
      "{\"add\":{\"path\":\"part-00000-e0853e7e-3893-4b1d-9cb9-853b10894ae0-c000.snappy.parquet\",\"partitionValues\":{},\"size\":296,\"modificationTime\":1633653151983,\"dataChange\":true}}\n",
      "{\"add\":{\"path\":\"part-00001-82579b16-a31c-4258-9805-aea030960718-c000.snappy.parquet\",\"partitionValues\":{},\"size\":463,\"modificationTime\":1633653152020,\"dataChange\":true}}\n",
      "{\"add\":{\"path\":\"part-00003-8bde0667-6254-477e-919a-c11ea03a471e-c000.snappy.parquet\",\"partitionValues\":{},\"size\":463,\"modificationTime\":1633653152005,\"dataChange\":true}}\n",
      "{\"add\":{\"path\":\"part-00004-3ee3c741-aac5-4dbc-b4ed-869bf4d18925-c000.snappy.parquet\",\"partitionValues\":{},\"size\":463,\"modificationTime\":1633653152000,\"dataChange\":true}}\n",
      "{\"add\":{\"path\":\"part-00006-b66d3f3d-1198-4649-8149-59a2457cba06-c000.snappy.parquet\",\"partitionValues\":{},\"size\":463,\"modificationTime\":1633653152016,\"dataChange\":true}}\n",
      "{\"add\":{\"path\":\"part-00007-f6097749-d798-422d-ac01-f17025e93203-c000.snappy.parquet\",\"partitionValues\":{},\"size\":463,\"modificationTime\":1633653152024,\"dataChange\":true}}\n",
      "\n",
      "00000000000000000000.json\n",
      "{\"commitInfo\":{\"timestamp\":1633653121387,\"operation\":\"WRITE\",\"operationParameters\":{\"mode\":\"Overwrite\",\"partitionBy\":\"[]\"},\"isBlindAppend\":false,\"operationMetrics\":{\"numFiles\":\"5\",\"numOutputBytes\":\"2148\",\"numOutputRows\":\"4\"}}}\n",
      "{\"protocol\":{\"minReaderVersion\":1,\"minWriterVersion\":2}}\n",
      "{\"metaData\":{\"id\":\"e45ca78c-132e-45a0-a634-1e9ce7ed903f\",\"format\":{\"provider\":\"parquet\",\"options\":{}},\"schemaString\":\"{\\\"type\\\":\\\"struct\\\",\\\"fields\\\":[{\\\"name\\\":\\\"id\\\",\\\"type\\\":\\\"long\\\",\\\"nullable\\\":true,\\\"metadata\\\":{}}]}\",\"partitionColumns\":[],\"configuration\":{},\"createdTime\":1633653121103}}\n",
      "{\"add\":{\"path\":\"part-00000-d53fa19c-ac14-4ab2-9689-22e3bb17966b-c000.snappy.parquet\",\"partitionValues\":{},\"size\":296,\"modificationTime\":1633653121222,\"dataChange\":true}}\n",
      "{\"add\":{\"path\":\"part-00001-4dbd76f2-7dad-47ed-80dc-e3aef8a7088d-c000.snappy.parquet\",\"partitionValues\":{},\"size\":463,\"modificationTime\":1633653121245,\"dataChange\":true}}\n",
      "{\"add\":{\"path\":\"part-00003-6ebb27ae-9c5c-4d29-8e4b-48b42ec8cb3c-c000.snappy.parquet\",\"partitionValues\":{},\"size\":463,\"modificationTime\":1633653121235,\"dataChange\":true}}\n",
      "{\"add\":{\"path\":\"part-00005-d74d5c06-ff82-4ad0-be9e-1d415f3af4f0-c000.snappy.parquet\",\"partitionValues\":{},\"size\":463,\"modificationTime\":1633653121236,\"dataChange\":true}}\n",
      "{\"add\":{\"path\":\"part-00007-88f53701-3b64-4a89-9b7c-afcf96f26fdb-c000.snappy.parquet\",\"partitionValues\":{},\"size\":463,\"modificationTime\":1633653121240,\"dataChange\":true}}\n",
      "\n"
     ]
    }
   ],
   "metadata": {}
  },
  {
   "cell_type": "markdown",
   "source": [
    "### Merge\n",
    "\n",
    "Now, we will perform the merge operation on our Delta Table. Create a new dataset containing Country, Year and Temperature columns and will write it as a Delta Table."
   ],
   "metadata": {}
  },
  {
   "cell_type": "code",
   "execution_count": 73,
   "source": [
    "shutil.rmtree(\"/tmp/data/delta_merge\", ignore_errors=True)\n",
    "\n",
    "df = session.read.csv(\"/home/mike/tmp/dataset\", inferSchema=True, sep=',', header=True)\n",
    "df.write.format(\"delta\").save(\"/tmp/data/delta_merge\")"
   ],
   "outputs": [
    {
     "output_type": "stream",
     "name": "stderr",
     "text": []
    }
   ],
   "metadata": {}
  },
  {
   "cell_type": "code",
   "execution_count": 74,
   "source": [
    "delta_merge_df = DeltaTable.forPath(session, \"/tmp/data/delta_merge\")\n",
    "delta_merge_df.toDF().show()"
   ],
   "outputs": [
    {
     "output_type": "stream",
     "name": "stdout",
     "text": [
      "+---------+----+-----------+\n",
      "|  country|year|temperature|\n",
      "+---------+----+-----------+\n",
      "|Australia|2019|      23.34|\n",
      "| Pakistan|2021|   27.89892|\n",
      "+---------+----+-----------+\n",
      "\n"
     ]
    }
   ],
   "metadata": {}
  },
  {
   "cell_type": "code",
   "execution_count": 75,
   "source": [
    "update_df = session.read.csv(\"/home/mike/tmp/update-dataset\", inferSchema=True, sep=',', header=True)\n",
    "update_df.show()"
   ],
   "outputs": [
    {
     "output_type": "stream",
     "name": "stdout",
     "text": [
      "+-----------+----+-----------+\n",
      "|    country|year|temperature|\n",
      "+-----------+----+-----------+\n",
      "|  Australia|2021|      100.0|\n",
      "|New Zealand|2019|   19.34534|\n",
      "+-----------+----+-----------+\n",
      "\n"
     ]
    }
   ],
   "metadata": {}
  },
  {
   "cell_type": "code",
   "execution_count": 76,
   "source": [
    "delta_merge_df.alias(\"delta_merge\").merge(\n",
    "    update_df.alias(\"updates\"),\n",
    "    \"delta_merge.country = updates.country\") \\\n",
    "  .whenMatchedUpdate(set = { \n",
    "        \"temperature\" : \"updates.temperature\",\n",
    "        \"year\" : \"updates.year\"\n",
    "  } ) \\\n",
    "  .whenNotMatchedInsert(values =\n",
    "    {\n",
    "      \"country\": \"updates.country\",\n",
    "      \"year\": \"updates.year\",\n",
    "      \"temperature\": \"updates.temperature\"\n",
    "    }\n",
    "  ) \\\n",
    "  .execute()"
   ],
   "outputs": [
    {
     "output_type": "stream",
     "name": "stderr",
     "text": []
    }
   ],
   "metadata": {}
  },
  {
   "cell_type": "markdown",
   "source": [
    "Final merged records - Australia got updated to 100.00, and year got updated to 2021"
   ],
   "metadata": {}
  },
  {
   "cell_type": "code",
   "execution_count": 77,
   "source": [
    "delta_merge_df.toDF().show()"
   ],
   "outputs": [
    {
     "output_type": "stream",
     "name": "stdout",
     "text": [
      "+-----------+----+-----------+\n",
      "|    country|year|temperature|\n",
      "+-----------+----+-----------+\n",
      "|New Zealand|2019|   19.34534|\n",
      "|  Australia|2021|      100.0|\n",
      "|   Pakistan|2021|   27.89892|\n",
      "+-----------+----+-----------+\n",
      "\n"
     ]
    }
   ],
   "metadata": {}
  },
  {
   "cell_type": "markdown",
   "source": [
    "### Time Travel\n",
    "\n",
    "Delta Lake we will be able to maintain different versions of our dataset’s and can be reused when needed."
   ],
   "metadata": {}
  },
  {
   "cell_type": "code",
   "execution_count": 78,
   "source": [
    "delta_df.history().show(10, False)"
   ],
   "outputs": [
    {
     "output_type": "stream",
     "name": "stdout",
     "text": [
      "+-------+-----------------------+------+--------+---------+--------------------------------------+----+--------+---------+-----------+--------------+-------------+------------------------------------------------------------------------------------------------------------------------------------------------------+------------+\n",
      "|version|timestamp              |userId|userName|operation|operationParameters                   |job |notebook|clusterId|readVersion|isolationLevel|isBlindAppend|operationMetrics                                                                                                                                      |userMetadata|\n",
      "+-------+-----------------------+------+--------+---------+--------------------------------------+----+--------+---------+-----------+--------------+-------------+------------------------------------------------------------------------------------------------------------------------------------------------------+------------+\n",
      "|4      |2021-10-08 10:35:02.871|null  |null    |UPDATE   |{predicate -> (id#12463L = 5)}        |null|null    |null     |3          |null          |false        |{numRemovedFiles -> 1, numCopiedRows -> 0, executionTimeMs -> 2472, scanTimeMs -> 2110, numAddedFiles -> 1, numUpdatedRows -> 1, rewriteTimeMs -> 362}|null        |\n",
      "|3      |2021-10-08 10:34:49.685|null  |null    |UPDATE   |{predicate -> (id#11855L = 5)}        |null|null    |null     |2          |null          |false        |{numRemovedFiles -> 1, numCopiedRows -> 0, executionTimeMs -> 1271, scanTimeMs -> 1089, numAddedFiles -> 1, numUpdatedRows -> 1, rewriteTimeMs -> 182}|null        |\n",
      "|2      |2021-10-08 10:33:11.055|null  |null    |DELETE   |{predicate -> [\"(`id` <= 2L)\"]}       |null|null    |null     |1          |null          |false        |{numRemovedFiles -> 1, numCopiedRows -> 0, executionTimeMs -> 1559, numDeletedRows -> 2, scanTimeMs -> 1363, numAddedFiles -> 1, rewriteTimeMs -> 195}|null        |\n",
      "|1      |2021-10-08 10:32:32.04 |null  |null    |WRITE    |{mode -> Append, partitionBy -> []}   |null|null    |null     |0          |null          |true         |{numFiles -> 6, numOutputBytes -> 2611, numOutputRows -> 5}                                                                                           |null        |\n",
      "|0      |2021-10-08 10:32:01.394|null  |null    |WRITE    |{mode -> Overwrite, partitionBy -> []}|null|null    |null     |null       |null          |false        |{numFiles -> 5, numOutputBytes -> 2148, numOutputRows -> 4}                                                                                           |null        |\n",
      "+-------+-----------------------+------+--------+---------+--------------------------------------+----+--------+---------+-----------+--------------+-------------+------------------------------------------------------------------------------------------------------------------------------------------------------+------------+\n",
      "\n"
     ]
    }
   ],
   "metadata": {}
  },
  {
   "cell_type": "markdown",
   "source": [
    "Current data looks like this:"
   ],
   "metadata": {}
  },
  {
   "cell_type": "code",
   "execution_count": 48,
   "source": [
    "delta_df = DeltaTable.forPath(session, \"/tmp/data/delta_sample\")\n",
    "delta_df.toDF().show()"
   ],
   "outputs": [
    {
     "output_type": "stream",
     "name": "stdout",
     "text": [
      "+---+\n",
      "| id|\n",
      "+---+\n",
      "|  1|\n",
      "|  2|\n",
      "|500|\n",
      "|  4|\n",
      "|  7|\n",
      "|  3|\n",
      "|  9|\n",
      "|  8|\n",
      "|  6|\n",
      "+---+\n",
      "\n"
     ]
    }
   ],
   "metadata": {}
  },
  {
   "cell_type": "markdown",
   "source": [
    "Lets get back version 1 of our data"
   ],
   "metadata": {}
  },
  {
   "cell_type": "code",
   "execution_count": 79,
   "source": [
    "version_1 = session.read.format(\"delta\").option(\"versionAsOf\",1).load(\"/tmp/data/delta_sample\")\n",
    "version_1.show()"
   ],
   "outputs": [
    {
     "output_type": "stream",
     "name": "stderr",
     "text": []
    },
    {
     "output_type": "stream",
     "name": "stdout",
     "text": [
      "+---+\n",
      "| id|\n",
      "+---+\n",
      "|  8|\n",
      "|  6|\n",
      "|  7|\n",
      "|  4|\n",
      "|  5|\n",
      "|  3|\n",
      "|  1|\n",
      "|  2|\n",
      "|  9|\n",
      "+---+\n",
      "\n"
     ]
    }
   ],
   "metadata": {}
  },
  {
   "cell_type": "markdown",
   "source": [
    "So we dont blow out our storage, we can use `deltaTable.vacuum()`\n",
    "\n",
    "    deltaTable.vacuum()     # vacuum files not required by versions more than 7 days old\n",
    "    deltaTable.vacuum(100)  # vacuum files not required by versions more than 100 hours old"
   ],
   "metadata": {}
  },
  {
   "cell_type": "code",
   "execution_count": 80,
   "source": [
    "session.stop()"
   ],
   "outputs": [],
   "metadata": {}
  }
 ],
 "metadata": {
  "orig_nbformat": 4,
  "language_info": {
   "name": "python",
   "version": "3.9.7",
   "mimetype": "text/x-python",
   "codemirror_mode": {
    "name": "ipython",
    "version": 3
   },
   "pygments_lexer": "ipython3",
   "nbconvert_exporter": "python",
   "file_extension": ".py"
  },
  "kernelspec": {
   "name": "python3",
   "display_name": "Python 3.9.7 64-bit"
  },
  "interpreter": {
   "hash": "e7370f93d1d0cde622a1f8e1c04877d8463912d04d973331ad4851f04de6915a"
  }
 },
 "nbformat": 4,
 "nbformat_minor": 2
}